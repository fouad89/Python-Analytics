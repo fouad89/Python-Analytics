{
 "cells": [
  {
   "cell_type": "markdown",
   "metadata": {},
   "source": [
    "#### This function will take in a file(2 columns) and convert them into a dictionary to analyse data by the hour"
   ]
  },
  {
   "cell_type": "code",
   "execution_count": 1,
   "metadata": {},
   "outputs": [],
   "source": [
    "def get_time_bucket(filename):\n",
    "    \"\"\"retrieve a file name, and return a dictionary with key(hour), value(time to resolve)\"\"\"\n",
    "    def get_data(filename):\n",
    "        '''converting the file to a list of items. the first value of each item is the hour, and second value is the averagetime of resolution'''\n",
    "        import datetime\n",
    "        data_tuples=list()\n",
    "        date_format='%Y-%m-%d %H:%M:%S'\n",
    "        with open(filename,'r') as f:\n",
    "            for line in f:\n",
    "                data_tuples.append(line.strip().split(',')) \n",
    "                #going line by line to to format the csv file given.\n",
    "      #  print(data_tuples[1:10]) # to show the first items and be familiar to the list format/avalues        \n",
    "        data_tuples=[(datetime.datetime.strptime(x[0],date_format).hour,float(x[1]))for x in data_tuples]\n",
    "        return data_tuples\n",
    "    buckets=dict()\n",
    "    for item in get_data(filename): \n",
    "        if item[0] in buckets: # item[0] would be the first part of the above example\n",
    "            buckets[item[0]][0]+=1 # if the \"hour\" exists then sum how many times it exists in the list\n",
    "            buckets[item[0]][1]+=item[1] # to sum up the total time for resolution for each hour\n",
    "\n",
    "        else:\n",
    "            buckets[item[0]]=[1,item[1]] #if item[0] is not in the dictionary, start the count for it.\n",
    "    buckets=[(key,value[1]/value[0]) for key, value in buckets.items()]\n",
    "    return  buckets#key would be 0,1,2... and value would be the average\n",
    "\n",
    "        \n",
    "    \n",
    "   "
   ]
  },
  {
   "cell_type": "code",
   "execution_count": 2,
   "metadata": {},
   "outputs": [
    {
     "data": {
      "text/plain": [
       "[(0, 0.6570511564469035),\n",
       " (1, 2.9613477328431377),\n",
       " (2, 2.334965452261305),\n",
       " (3, 3.0839338759007866),\n",
       " (4, 4.663183017810805),\n",
       " (5, 2.550054976851854),\n",
       " (6, 5.344349826388891),\n",
       " (7, 2.5844597678664565),\n",
       " (8, 6.0724520669659565),\n",
       " (9, 8.564869090207626),\n",
       " (10, 12.671294691132733),\n",
       " (11, 5.901653566341063),\n",
       " (12, 13.66402543540564),\n",
       " (13, 8.593492462013293),\n",
       " (14, 8.100135135135135),\n",
       " (15, 12.776634463154863),\n",
       " (16, 10.943701434277418),\n",
       " (17, 6.634365784623489),\n",
       " (18, 7.324956692612944),\n",
       " (19, 9.098796085858586),\n",
       " (20, 5.199433822667603),\n",
       " (21, 4.74319171267541),\n",
       " (22, 8.449229102956167),\n",
       " (23, 5.184938602292768)]"
      ]
     },
     "execution_count": 2,
     "metadata": {},
     "output_type": "execute_result"
    }
   ],
   "source": [
    "get_time_bucket('sample_data.csv')"
   ]
  },
  {
   "cell_type": "code",
   "execution_count": 3,
   "metadata": {},
   "outputs": [],
   "source": [
    "## Applying Bar Plot\n",
    "def plotting_buckets(filename):\n",
    "    import matplotlib.pylab as plt \n",
    "    %matplotlib inline\n",
    "    hr_bucket=list()\n",
    "    res_time=list()\n",
    "    for item in get_time_bucket(filename):\n",
    "        hr_bucket.append(item[0])\n",
    "        res_time.append(item[1])\n",
    "    #return hr_bucket, res_time    \n",
    "    fig=plt.figure()\n",
    "    plt.bar(hr_bucket,res_time)\n",
    "    plt.xlabel(\"Hour\")\n",
    "    plt.ylabel(\"Resolution Time\")\n",
    "    fig.suptitle('Time of Day Vs Resolution Time')\n"
   ]
  },
  {
   "cell_type": "code",
   "execution_count": 4,
   "metadata": {},
   "outputs": [
    {
     "data": {
      "image/png": "[encoded data removed]",
      "text/plain": [
       "<matplotlib.figure.Figure at 0x112a1e4a8>"
      ]
     },
     "metadata": {},
     "output_type": "display_data"
    }
   ],
   "source": [
    "plotting_buckets('sample_data.csv')"
   ]
  },
  {
   "cell_type": "code",
   "execution_count": null,
   "metadata": {
    "collapsed": true
   },
   "outputs": [],
   "source": []
  }
 ],
 "metadata": {
  "kernelspec": {
   "display_name": "Python 3",
   "language": "python",
   "name": "python3"
  },
  "language_info": {
   "codemirror_mode": {
    "name": "ipython",
    "version": 3
   },
   "file_extension": ".py",
   "mimetype": "text/x-python",
   "name": "python",
   "nbconvert_exporter": "python",
   "pygments_lexer": "ipython3",
   "version": "3.6.1"
  }
 },
 "nbformat": 4,
 "nbformat_minor": 2
}
