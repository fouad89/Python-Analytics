{
 "cells": [
  {
   "cell_type": "code",
   "execution_count": 27,
   "metadata": {
    "collapsed": true
   },
   "outputs": [],
   "source": [
    "'''\n",
    "A function that takes a text string as an argument and returns a \n",
    "list of recipe dictionaries\n",
    "\n",
    "each dictionary contains the name of the recipe, a breif description of the recipe,\n",
    "the list of ingredients and the prepartion steps\n",
    "'''\n",
    "\n",
    "def get_receipes(keywords):\n",
    "    import requests #its good to include all imports inside the function\n",
    "    from bs4 import BeautifulSoup\n",
    "    recipe_list=[]\n",
    "    url='http://www.epicurious.com/search/'+keywords #website url+search terms\n",
    "    response=requests.get(url)\n",
    "    # check if the response is valid\n",
    "    if not response.status_code==200:\n",
    "        return recipe_list\n",
    "\n",
    "    try:\n",
    "        beautiful_response=BeautifulSoup(response.content,'lxml')\n",
    "        recipes=beautiful_response.find_all('article',class_='recipe-content-card')\n",
    "        print(len(recipes))\n",
    "        print(recipes[0])\n",
    "    except:\n",
    "        return recipe_list\n",
    "        \n",
    "    \n"
   ]
  },
  {
   "cell_type": "code",
   "execution_count": 28,
   "metadata": {},
   "outputs": [
    {
     "name": "stdout",
     "output_type": "stream",
     "text": [
      "2\n",
      "<article class=\"recipe-content-card\" data-has-quickview=\"false\" data-index=\"0\" data-reactid=\"72\" itemscope=\"\" itemtype=\"http://schema.org/Recipe\"><header class=\"summary\" data-reactid=\"73\"><strong class=\"tag\" data-reactid=\"74\">recipe</strong><h4 class=\"hed\" data-reactid=\"75\" data-truncate=\"3\" itemprop=\"name\"><a data-reactid=\"76\" href=\"/recipes/food/views/spicy-lemongrass-tofu-233844\">Spicy Lemongrass Tofu</a></h4><p class=\"dek\" data-reactid=\"77\" data-truncate=\"1\">Dau hu xa ot\n",
      "Editor's note: The recipe and introductory text below are excerpted from Pleasures of the Vietnamese Table by Mai Pham and are part of our story on Lunar New Year.\n",
      "While traveling on a train one time to the coastal town of Nha Trang, I sat next to an elderly nun. Over the course of our bumpy eight-hour ride, she shared stories of life at the temple and the difficult years after the end of the war when the Communist government cracked down on religious factions. Toward the end of our chat, she pulled out a bag of food she'd prepared for the trip. It was tofu that had been cooked in chilies, lemongrass and la lot, an aromatic leaf also known as pepper leaf. When she gave me a taste, I knew immediately that I had to learn how to make it. This is my rendition of that fabulous dish. Make sure to pat the tofu dry before marinating it and use very fresh lemongrass. I always love serving this to friends who think tofu dishes are bland.</p><dl class=\"recipes-ratings-summary\" data-reactid=\"78\" data-reviews-count=\"17\" data-reviews-rating=\"3.38\" itemprop=\"aggregateRating\" itemscope=\"\" itemtype=\"http://schema.org/AggregateRating\"><dt class=\"rating-label\" data-reactid=\"79\">Average user rating</dt><span class=\"reviews-count-container\" data-reactid=\"80\"><dd class=\"rating\" data-rating=\"3.5\" data-reactid=\"81\"><span data-reactid=\"82\" itemprop=\"ratingValue\">3.5</span><!-- react-text: 83 -->/<!-- /react-text --><span data-reactid=\"84\" itemprop=\"bestRating\">4</span><meta content=\"0\" data-reactid=\"85\" itemprop=\"worstRating\"/></dd><dt class=\"reviews-count-label\" data-reactid=\"86\">Reviews</dt><dd class=\"reviews-count\" data-reactid=\"87\" itemprop=\"reviewCount\">17</dd></span><span class=\"make-again-container\" data-reactid=\"88\"><dt class=\"make-again-percentage-label\" data-reactid=\"89\">Percentage of reviewers who will make this recipe again</dt><dd class=\"make-again-percentage\" data-reactid=\"90\"><!-- react-text: 91 -->88<!-- /react-text --><!-- react-text: 92 -->%<!-- /react-text --></dd></span></dl></header><a class=\"photo-link\" data-reactid=\"93\" href=\"/recipes/food/views/spicy-lemongrass-tofu-233844\"><div class=\"photo-wrap\" data-reactid=\"94\"><div class=\"component-lazy pending\" data-component=\"Lazy\" data-reactid=\"95\"></div></div></a><a class=\"view-complete-item\" data-reactid=\"96\" href=\"/recipes/food/views/spicy-lemongrass-tofu-233844\" itemprop=\"url\" title=\"Spicy Lemongrass Tofu\"><!-- react-text: 97 -->View “<!-- /react-text --><!-- react-text: 98 -->Spicy Lemongrass Tofu<!-- /react-text --><!-- react-text: 99 -->”<!-- /react-text --></a><div class=\"recipe-panel \" data-reactid=\"100\"><a class=\"view-complete-item\" data-reactid=\"101\" href=\"/recipes/food/views/spicy-lemongrass-tofu-233844\">View Recipe</a><div class=\"controls\" data-reactid=\"102\"><a class=\"show-quick-view\" data-reactid=\"103\" href=\"/recipes/food/views/spicy-lemongrass-tofu-233844\" title=\"Spicy Lemongrass Tofu\">Quick view</a><a class=\"toggle-compare-state\" data-reactid=\"104\">Compare Recipe</a></div></div></article>\n"
     ]
    }
   ],
   "source": [
    "get_receipes('tofu chili')"
   ]
  },
  {
   "cell_type": "code",
   "execution_count": null,
   "metadata": {
    "collapsed": true
   },
   "outputs": [],
   "source": []
  }
 ],
 "metadata": {
  "kernelspec": {
   "display_name": "Python 3",
   "language": "python",
   "name": "python3"
  },
  "language_info": {
   "codemirror_mode": {
    "name": "ipython",
    "version": 3
   },
   "file_extension": ".py",
   "mimetype": "text/x-python",
   "name": "python",
   "nbconvert_exporter": "python",
   "pygments_lexer": "ipython3",
   "version": "3.6.1"
  }
 },
 "nbformat": 4,
 "nbformat_minor": 2
}
