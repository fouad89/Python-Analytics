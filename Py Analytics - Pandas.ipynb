{
 "cells": [
  {
   "cell_type": "code",
   "execution_count": 1,
   "metadata": {
    "collapsed": true
   },
   "outputs": [],
   "source": [
    "import numpy as np\n",
    "import pandas as pd\n",
    "from pandas_datareader import data \n",
    "import matplotlib.pyplot as plt \n",
    "import datetime \n",
    "%matplotlib inline"
   ]
  },
  {
   "cell_type": "code",
   "execution_count": null,
   "metadata": {
    "collapsed": true
   },
   "outputs": [],
   "source": []
  },
  {
   "cell_type": "markdown",
   "metadata": {},
   "source": [
    "### Reading data from the Web"
   ]
  },
  {
   "cell_type": "code",
   "execution_count": 2,
   "metadata": {},
   "outputs": [
    {
     "data": {
      "text/plain": [
       "1"
      ]
     },
     "execution_count": 2,
     "metadata": {},
     "output_type": "execute_result"
    }
   ],
   "source": [
    "# this will grab a list of the tables available\n",
    "df_list = pd.read_html('http://www.bloomberg.com/markets/currencies/major')\n",
    "len(df_list)"
   ]
  },
  {
   "cell_type": "code",
   "execution_count": 3,
   "metadata": {},
   "outputs": [],
   "source": [
    "df = df_list[0]"
   ]
  },
  {
   "cell_type": "code",
   "execution_count": 4,
   "metadata": {},
   "outputs": [],
   "source": [
    "df.set_index('Currency',inplace = True)"
   ]
  },
  {
   "cell_type": "code",
   "execution_count": 5,
   "metadata": {},
   "outputs": [
    {
     "data": {
      "text/html": [
       "<div>\n",
       "<style>\n",
       "    .dataframe thead tr:only-child th {\n",
       "        text-align: right;\n",
       "    }\n",
       "\n",
       "    .dataframe thead th {\n",
       "        text-align: left;\n",
       "    }\n",
       "\n",
       "    .dataframe tbody tr th {\n",
       "        vertical-align: top;\n",
       "    }\n",
       "</style>\n",
       "<table border=\"1\" class=\"dataframe\">\n",
       "  <thead>\n",
       "    <tr style=\"text-align: right;\">\n",
       "      <th></th>\n",
       "      <th>Value</th>\n",
       "      <th>Change</th>\n",
       "      <th>Net Change</th>\n",
       "      <th>Time (EDT)</th>\n",
       "      <th>2 Day</th>\n",
       "    </tr>\n",
       "    <tr>\n",
       "      <th>Currency</th>\n",
       "      <th></th>\n",
       "      <th></th>\n",
       "      <th></th>\n",
       "      <th></th>\n",
       "      <th></th>\n",
       "    </tr>\n",
       "  </thead>\n",
       "  <tbody>\n",
       "    <tr>\n",
       "      <th>EUR-USD</th>\n",
       "      <td>1.1760</td>\n",
       "      <td>-0.0055</td>\n",
       "      <td>-0.47%</td>\n",
       "      <td>7:22 AM</td>\n",
       "      <td>NaN</td>\n",
       "    </tr>\n",
       "    <tr>\n",
       "      <th>USD-JPY</th>\n",
       "      <td>109.4000</td>\n",
       "      <td>0.4200</td>\n",
       "      <td>+0.39%</td>\n",
       "      <td>7:22 AM</td>\n",
       "      <td>NaN</td>\n",
       "    </tr>\n",
       "    <tr>\n",
       "      <th>GBP-USD</th>\n",
       "      <td>1.2826</td>\n",
       "      <td>-0.0074</td>\n",
       "      <td>-0.57%</td>\n",
       "      <td>7:22 AM</td>\n",
       "      <td>NaN</td>\n",
       "    </tr>\n",
       "    <tr>\n",
       "      <th>AUD-USD</th>\n",
       "      <td>0.7902</td>\n",
       "      <td>-0.0037</td>\n",
       "      <td>-0.47%</td>\n",
       "      <td>7:22 AM</td>\n",
       "      <td>NaN</td>\n",
       "    </tr>\n",
       "    <tr>\n",
       "      <th>USD-CAD</th>\n",
       "      <td>1.2581</td>\n",
       "      <td>0.0023</td>\n",
       "      <td>+0.18%</td>\n",
       "      <td>7:22 AM</td>\n",
       "      <td>NaN</td>\n",
       "    </tr>\n",
       "    <tr>\n",
       "      <th>USD-CHF</th>\n",
       "      <td>0.9661</td>\n",
       "      <td>0.0042</td>\n",
       "      <td>+0.44%</td>\n",
       "      <td>7:22 AM</td>\n",
       "      <td>NaN</td>\n",
       "    </tr>\n",
       "    <tr>\n",
       "      <th>EUR-JPY</th>\n",
       "      <td>128.6600</td>\n",
       "      <td>-0.0900</td>\n",
       "      <td>-0.07%</td>\n",
       "      <td>7:22 AM</td>\n",
       "      <td>NaN</td>\n",
       "    </tr>\n",
       "    <tr>\n",
       "      <th>EUR-GBP</th>\n",
       "      <td>0.9169</td>\n",
       "      <td>0.0009</td>\n",
       "      <td>+0.10%</td>\n",
       "      <td>7:22 AM</td>\n",
       "      <td>NaN</td>\n",
       "    </tr>\n",
       "    <tr>\n",
       "      <th>USD-HKD</th>\n",
       "      <td>7.8267</td>\n",
       "      <td>0.0029</td>\n",
       "      <td>+0.04%</td>\n",
       "      <td>7:22 AM</td>\n",
       "      <td>NaN</td>\n",
       "    </tr>\n",
       "    <tr>\n",
       "      <th>EUR-CHF</th>\n",
       "      <td>1.1361</td>\n",
       "      <td>-0.0003</td>\n",
       "      <td>-0.03%</td>\n",
       "      <td>7:22 AM</td>\n",
       "      <td>NaN</td>\n",
       "    </tr>\n",
       "    <tr>\n",
       "      <th>USD-KRW</th>\n",
       "      <td>1133.7800</td>\n",
       "      <td>-5.1700</td>\n",
       "      <td>-0.45%</td>\n",
       "      <td>2:29 AM</td>\n",
       "      <td>NaN</td>\n",
       "    </tr>\n",
       "  </tbody>\n",
       "</table>\n",
       "</div>"
      ],
      "text/plain": [
       "              Value  Change Net Change Time (EDT)  2 Day\n",
       "Currency                                                \n",
       "EUR-USD      1.1760 -0.0055     -0.47%    7:22 AM    NaN\n",
       "USD-JPY    109.4000  0.4200     +0.39%    7:22 AM    NaN\n",
       "GBP-USD      1.2826 -0.0074     -0.57%    7:22 AM    NaN\n",
       "AUD-USD      0.7902 -0.0037     -0.47%    7:22 AM    NaN\n",
       "USD-CAD      1.2581  0.0023     +0.18%    7:22 AM    NaN\n",
       "USD-CHF      0.9661  0.0042     +0.44%    7:22 AM    NaN\n",
       "EUR-JPY    128.6600 -0.0900     -0.07%    7:22 AM    NaN\n",
       "EUR-GBP      0.9169  0.0009     +0.10%    7:22 AM    NaN\n",
       "USD-HKD      7.8267  0.0029     +0.04%    7:22 AM    NaN\n",
       "EUR-CHF      1.1361 -0.0003     -0.03%    7:22 AM    NaN\n",
       "USD-KRW   1133.7800 -5.1700     -0.45%    2:29 AM    NaN"
      ]
     },
     "execution_count": 5,
     "metadata": {},
     "output_type": "execute_result"
    }
   ],
   "source": [
    "df"
   ]
  },
  {
   "cell_type": "code",
   "execution_count": 6,
   "metadata": {},
   "outputs": [
    {
     "data": {
      "text/plain": [
       "1.1361000000000001"
      ]
     },
     "execution_count": 6,
     "metadata": {},
     "output_type": "execute_result"
    }
   ],
   "source": [
    "# extract value of specific currency rate of change \n",
    "\n",
    "df.loc['EUR-CHF', 'Value']"
   ]
  },
  {
   "cell_type": "code",
   "execution_count": 7,
   "metadata": {},
   "outputs": [
    {
     "name": "stdout",
     "output_type": "stream",
     "text": [
      "-0.0055\n",
      "-0.0055\n"
     ]
    },
    {
     "name": "stderr",
     "output_type": "stream",
     "text": [
      "/Users/spydermac/anaconda/lib/python3.6/site-packages/ipykernel_launcher.py:3: SettingWithCopyWarning: \n",
      "A value is trying to be set on a copy of a slice from a DataFrame\n",
      "\n",
      "See the caveats in the documentation: http://pandas.pydata.org/pandas-docs/stable/indexing.html#indexing-view-versus-copy\n",
      "  This is separate from the ipykernel package so we can avoid doing imports until\n"
     ]
    }
   ],
   "source": [
    "# chain indexing will not change the df value, but rather make a copy \n",
    "eur_usd = df.loc['EUR-USD']['Change']\n",
    "df.loc['EUR-USD']['Change'] = 1.0\n",
    "print(eur_usd)\n",
    "print(df.loc['EUR-USD']['Change'])"
   ]
  },
  {
   "cell_type": "code",
   "execution_count": 8,
   "metadata": {},
   "outputs": [
    {
     "name": "stdout",
     "output_type": "stream",
     "text": [
      "-0.0055\n",
      "1.0\n"
     ]
    }
   ],
   "source": [
    "# alternatively, use the other type of indexing to change the value\n",
    "eur_usd = df.loc['EUR-USD','Change']\n",
    "df.loc['EUR-USD','Change'] = 1.0\n",
    "print(eur_usd)\n",
    "print(df.loc['EUR-USD','Change'])\n",
    "\n"
   ]
  },
  {
   "cell_type": "markdown",
   "metadata": {},
   "source": [
    "## Getting historical stock prices from Google Finance"
   ]
  },
  {
   "cell_type": "code",
   "execution_count": 27,
   "metadata": {},
   "outputs": [
    {
     "name": "stdout",
     "output_type": "stream",
     "text": [
      "2017-05-01 00:00:00 2017-08-22 12:35:34.832778\n"
     ]
    }
   ],
   "source": [
    "start = datetime.datetime(2017, 5, 1)\n",
    "end = datetime.datetime.today()\n",
    "\n",
    "print (start, end)"
   ]
  },
  {
   "cell_type": "code",
   "execution_count": 30,
   "metadata": {},
   "outputs": [],
   "source": [
    "# for DataReader, specify the ticker, the source of date, start and end dats\n",
    "df = data.DataReader('AAPL', 'google', start, end)\n",
    "\n"
   ]
  },
  {
   "cell_type": "code",
   "execution_count": 32,
   "metadata": {},
   "outputs": [
    {
     "data": {
      "text/html": [
       "<div>\n",
       "<style>\n",
       "    .dataframe thead tr:only-child th {\n",
       "        text-align: right;\n",
       "    }\n",
       "\n",
       "    .dataframe thead th {\n",
       "        text-align: left;\n",
       "    }\n",
       "\n",
       "    .dataframe tbody tr th {\n",
       "        vertical-align: top;\n",
       "    }\n",
       "</style>\n",
       "<table border=\"1\" class=\"dataframe\">\n",
       "  <thead>\n",
       "    <tr style=\"text-align: right;\">\n",
       "      <th></th>\n",
       "      <th>Open</th>\n",
       "      <th>High</th>\n",
       "      <th>Low</th>\n",
       "      <th>Close</th>\n",
       "      <th>Volume</th>\n",
       "    </tr>\n",
       "    <tr>\n",
       "      <th>Date</th>\n",
       "      <th></th>\n",
       "      <th></th>\n",
       "      <th></th>\n",
       "      <th></th>\n",
       "      <th></th>\n",
       "    </tr>\n",
       "  </thead>\n",
       "  <tbody>\n",
       "    <tr>\n",
       "      <th>2017-05-01</th>\n",
       "      <td>145.10</td>\n",
       "      <td>147.20</td>\n",
       "      <td>144.96</td>\n",
       "      <td>146.58</td>\n",
       "      <td>33602943</td>\n",
       "    </tr>\n",
       "    <tr>\n",
       "      <th>2017-05-02</th>\n",
       "      <td>147.54</td>\n",
       "      <td>148.09</td>\n",
       "      <td>146.84</td>\n",
       "      <td>147.51</td>\n",
       "      <td>45352194</td>\n",
       "    </tr>\n",
       "    <tr>\n",
       "      <th>2017-05-03</th>\n",
       "      <td>145.59</td>\n",
       "      <td>147.49</td>\n",
       "      <td>144.27</td>\n",
       "      <td>147.06</td>\n",
       "      <td>45697034</td>\n",
       "    </tr>\n",
       "    <tr>\n",
       "      <th>2017-05-04</th>\n",
       "      <td>146.52</td>\n",
       "      <td>147.14</td>\n",
       "      <td>145.81</td>\n",
       "      <td>146.53</td>\n",
       "      <td>23371872</td>\n",
       "    </tr>\n",
       "    <tr>\n",
       "      <th>2017-05-05</th>\n",
       "      <td>146.76</td>\n",
       "      <td>148.98</td>\n",
       "      <td>146.76</td>\n",
       "      <td>148.96</td>\n",
       "      <td>27327725</td>\n",
       "    </tr>\n",
       "    <tr>\n",
       "      <th>2017-05-08</th>\n",
       "      <td>149.03</td>\n",
       "      <td>153.70</td>\n",
       "      <td>149.03</td>\n",
       "      <td>153.01</td>\n",
       "      <td>48752413</td>\n",
       "    </tr>\n",
       "    <tr>\n",
       "      <th>2017-05-09</th>\n",
       "      <td>153.87</td>\n",
       "      <td>154.88</td>\n",
       "      <td>153.45</td>\n",
       "      <td>153.99</td>\n",
       "      <td>39130363</td>\n",
       "    </tr>\n",
       "    <tr>\n",
       "      <th>2017-05-10</th>\n",
       "      <td>153.63</td>\n",
       "      <td>153.94</td>\n",
       "      <td>152.11</td>\n",
       "      <td>153.26</td>\n",
       "      <td>25805692</td>\n",
       "    </tr>\n",
       "    <tr>\n",
       "      <th>2017-05-11</th>\n",
       "      <td>152.45</td>\n",
       "      <td>154.07</td>\n",
       "      <td>152.31</td>\n",
       "      <td>153.95</td>\n",
       "      <td>27255058</td>\n",
       "    </tr>\n",
       "    <tr>\n",
       "      <th>2017-05-12</th>\n",
       "      <td>154.70</td>\n",
       "      <td>156.42</td>\n",
       "      <td>154.67</td>\n",
       "      <td>156.10</td>\n",
       "      <td>32527017</td>\n",
       "    </tr>\n",
       "  </tbody>\n",
       "</table>\n",
       "</div>"
      ],
      "text/plain": [
       "              Open    High     Low   Close    Volume\n",
       "Date                                                \n",
       "2017-05-01  145.10  147.20  144.96  146.58  33602943\n",
       "2017-05-02  147.54  148.09  146.84  147.51  45352194\n",
       "2017-05-03  145.59  147.49  144.27  147.06  45697034\n",
       "2017-05-04  146.52  147.14  145.81  146.53  23371872\n",
       "2017-05-05  146.76  148.98  146.76  148.96  27327725\n",
       "2017-05-08  149.03  153.70  149.03  153.01  48752413\n",
       "2017-05-09  153.87  154.88  153.45  153.99  39130363\n",
       "2017-05-10  153.63  153.94  152.11  153.26  25805692\n",
       "2017-05-11  152.45  154.07  152.31  153.95  27255058\n",
       "2017-05-12  154.70  156.42  154.67  156.10  32527017"
      ]
     },
     "execution_count": 32,
     "metadata": {},
     "output_type": "execute_result"
    }
   ],
   "source": [
    "df.head(10)"
   ]
  },
  {
   "cell_type": "code",
   "execution_count": 34,
   "metadata": {},
   "outputs": [],
   "source": [
    "# investigating data: to see if buying at the open, and sell at the close time, \n",
    "# will you make money?\n",
    "# Adding a column value of 1 where close is higher than open, and 0 otherwise\n",
    "\n",
    "df['Up'] = np.where(df['Close']>df['Open'],1,0)\n"
   ]
  },
  {
   "cell_type": "code",
   "execution_count": 35,
   "metadata": {},
   "outputs": [
    {
     "data": {
      "text/html": [
       "<div>\n",
       "<style>\n",
       "    .dataframe thead tr:only-child th {\n",
       "        text-align: right;\n",
       "    }\n",
       "\n",
       "    .dataframe thead th {\n",
       "        text-align: left;\n",
       "    }\n",
       "\n",
       "    .dataframe tbody tr th {\n",
       "        vertical-align: top;\n",
       "    }\n",
       "</style>\n",
       "<table border=\"1\" class=\"dataframe\">\n",
       "  <thead>\n",
       "    <tr style=\"text-align: right;\">\n",
       "      <th></th>\n",
       "      <th>Open</th>\n",
       "      <th>High</th>\n",
       "      <th>Low</th>\n",
       "      <th>Close</th>\n",
       "      <th>Volume</th>\n",
       "      <th>Up</th>\n",
       "    </tr>\n",
       "    <tr>\n",
       "      <th>Date</th>\n",
       "      <th></th>\n",
       "      <th></th>\n",
       "      <th></th>\n",
       "      <th></th>\n",
       "      <th></th>\n",
       "      <th></th>\n",
       "    </tr>\n",
       "  </thead>\n",
       "  <tbody>\n",
       "    <tr>\n",
       "      <th>2017-05-01</th>\n",
       "      <td>145.10</td>\n",
       "      <td>147.20</td>\n",
       "      <td>144.96</td>\n",
       "      <td>146.58</td>\n",
       "      <td>33602943</td>\n",
       "      <td>1</td>\n",
       "    </tr>\n",
       "    <tr>\n",
       "      <th>2017-05-02</th>\n",
       "      <td>147.54</td>\n",
       "      <td>148.09</td>\n",
       "      <td>146.84</td>\n",
       "      <td>147.51</td>\n",
       "      <td>45352194</td>\n",
       "      <td>0</td>\n",
       "    </tr>\n",
       "    <tr>\n",
       "      <th>2017-05-03</th>\n",
       "      <td>145.59</td>\n",
       "      <td>147.49</td>\n",
       "      <td>144.27</td>\n",
       "      <td>147.06</td>\n",
       "      <td>45697034</td>\n",
       "      <td>1</td>\n",
       "    </tr>\n",
       "    <tr>\n",
       "      <th>2017-05-04</th>\n",
       "      <td>146.52</td>\n",
       "      <td>147.14</td>\n",
       "      <td>145.81</td>\n",
       "      <td>146.53</td>\n",
       "      <td>23371872</td>\n",
       "      <td>1</td>\n",
       "    </tr>\n",
       "    <tr>\n",
       "      <th>2017-05-05</th>\n",
       "      <td>146.76</td>\n",
       "      <td>148.98</td>\n",
       "      <td>146.76</td>\n",
       "      <td>148.96</td>\n",
       "      <td>27327725</td>\n",
       "      <td>1</td>\n",
       "    </tr>\n",
       "  </tbody>\n",
       "</table>\n",
       "</div>"
      ],
      "text/plain": [
       "              Open    High     Low   Close    Volume  Up\n",
       "Date                                                    \n",
       "2017-05-01  145.10  147.20  144.96  146.58  33602943   1\n",
       "2017-05-02  147.54  148.09  146.84  147.51  45352194   0\n",
       "2017-05-03  145.59  147.49  144.27  147.06  45697034   1\n",
       "2017-05-04  146.52  147.14  145.81  146.53  23371872   1\n",
       "2017-05-05  146.76  148.98  146.76  148.96  27327725   1"
      ]
     },
     "execution_count": 35,
     "metadata": {},
     "output_type": "execute_result"
    }
   ],
   "source": [
    "df.head()"
   ]
  },
  {
   "cell_type": "markdown",
   "metadata": {},
   "source": [
    "## Time Series Analysis"
   ]
  },
  {
   "cell_type": "markdown",
   "metadata": {},
   "source": [
    "### Get Summary Stats"
   ]
  },
  {
   "cell_type": "code",
   "execution_count": 36,
   "metadata": {},
   "outputs": [
    {
     "data": {
      "text/html": [
       "<div>\n",
       "<style>\n",
       "    .dataframe thead tr:only-child th {\n",
       "        text-align: right;\n",
       "    }\n",
       "\n",
       "    .dataframe thead th {\n",
       "        text-align: left;\n",
       "    }\n",
       "\n",
       "    .dataframe tbody tr th {\n",
       "        vertical-align: top;\n",
       "    }\n",
       "</style>\n",
       "<table border=\"1\" class=\"dataframe\">\n",
       "  <thead>\n",
       "    <tr style=\"text-align: right;\">\n",
       "      <th></th>\n",
       "      <th>Open</th>\n",
       "      <th>High</th>\n",
       "      <th>Low</th>\n",
       "      <th>Close</th>\n",
       "      <th>Volume</th>\n",
       "      <th>Up</th>\n",
       "    </tr>\n",
       "  </thead>\n",
       "  <tbody>\n",
       "    <tr>\n",
       "      <th>count</th>\n",
       "      <td>79.000000</td>\n",
       "      <td>79.000000</td>\n",
       "      <td>79.000000</td>\n",
       "      <td>79.000000</td>\n",
       "      <td>7.900000e+01</td>\n",
       "      <td>79.000000</td>\n",
       "    </tr>\n",
       "    <tr>\n",
       "      <th>mean</th>\n",
       "      <td>151.096582</td>\n",
       "      <td>152.139494</td>\n",
       "      <td>149.874177</td>\n",
       "      <td>151.065316</td>\n",
       "      <td>2.817015e+07</td>\n",
       "      <td>0.518987</td>\n",
       "    </tr>\n",
       "    <tr>\n",
       "      <th>std</th>\n",
       "      <td>5.224150</td>\n",
       "      <td>5.165836</td>\n",
       "      <td>5.161496</td>\n",
       "      <td>5.080931</td>\n",
       "      <td>1.138717e+07</td>\n",
       "      <td>0.502832</td>\n",
       "    </tr>\n",
       "    <tr>\n",
       "      <th>min</th>\n",
       "      <td>142.900000</td>\n",
       "      <td>143.500000</td>\n",
       "      <td>142.200000</td>\n",
       "      <td>142.270000</td>\n",
       "      <td>1.427785e+07</td>\n",
       "      <td>0.000000</td>\n",
       "    </tr>\n",
       "    <tr>\n",
       "      <th>25%</th>\n",
       "      <td>145.820000</td>\n",
       "      <td>147.180000</td>\n",
       "      <td>145.035000</td>\n",
       "      <td>146.310000</td>\n",
       "      <td>2.108014e+07</td>\n",
       "      <td>0.000000</td>\n",
       "    </tr>\n",
       "    <tr>\n",
       "      <th>50%</th>\n",
       "      <td>151.500000</td>\n",
       "      <td>153.340000</td>\n",
       "      <td>149.900000</td>\n",
       "      <td>151.020000</td>\n",
       "      <td>2.533166e+07</td>\n",
       "      <td>1.000000</td>\n",
       "    </tr>\n",
       "    <tr>\n",
       "      <th>75%</th>\n",
       "      <td>154.800000</td>\n",
       "      <td>155.495000</td>\n",
       "      <td>153.620000</td>\n",
       "      <td>154.720000</td>\n",
       "      <td>3.184830e+07</td>\n",
       "      <td>1.000000</td>\n",
       "    </tr>\n",
       "    <tr>\n",
       "      <th>max</th>\n",
       "      <td>161.940000</td>\n",
       "      <td>162.510000</td>\n",
       "      <td>160.150000</td>\n",
       "      <td>161.600000</td>\n",
       "      <td>7.230733e+07</td>\n",
       "      <td>1.000000</td>\n",
       "    </tr>\n",
       "  </tbody>\n",
       "</table>\n",
       "</div>"
      ],
      "text/plain": [
       "             Open        High         Low       Close        Volume         Up\n",
       "count   79.000000   79.000000   79.000000   79.000000  7.900000e+01  79.000000\n",
       "mean   151.096582  152.139494  149.874177  151.065316  2.817015e+07   0.518987\n",
       "std      5.224150    5.165836    5.161496    5.080931  1.138717e+07   0.502832\n",
       "min    142.900000  143.500000  142.200000  142.270000  1.427785e+07   0.000000\n",
       "25%    145.820000  147.180000  145.035000  146.310000  2.108014e+07   0.000000\n",
       "50%    151.500000  153.340000  149.900000  151.020000  2.533166e+07   1.000000\n",
       "75%    154.800000  155.495000  153.620000  154.720000  3.184830e+07   1.000000\n",
       "max    161.940000  162.510000  160.150000  161.600000  7.230733e+07   1.000000"
      ]
     },
     "execution_count": 36,
     "metadata": {},
     "output_type": "execute_result"
    }
   ],
   "source": [
    "df.describe()"
   ]
  },
  {
   "cell_type": "code",
   "execution_count": 37,
   "metadata": {},
   "outputs": [
    {
     "data": {
      "text/plain": [
       "51.898734177215189"
      ]
     },
     "execution_count": 37,
     "metadata": {},
     "output_type": "execute_result"
    }
   ],
   "source": [
    "# calculate the percentage of days that the stock closed higher\n",
    "df['Up'].sum()/df['Up'].count()*100"
   ]
  },
  {
   "cell_type": "code",
   "execution_count": 39,
   "metadata": {},
   "outputs": [
    {
     "data": {
      "text/plain": [
       "Date\n",
       "2017-05-01         NaN\n",
       "2017-05-02    0.006345\n",
       "2017-05-03   -0.003051\n",
       "2017-05-04   -0.003604\n",
       "2017-05-05    0.016584\n",
       "2017-05-08    0.027189\n",
       "2017-05-09    0.006405\n",
       "2017-05-10   -0.004741\n",
       "2017-05-11    0.004502\n",
       "2017-05-12    0.013966\n",
       "2017-05-15   -0.002562\n",
       "2017-05-16   -0.001477\n",
       "2017-05-17   -0.033576\n",
       "2017-05-18    0.015241\n",
       "2017-05-19    0.003409\n",
       "2017-05-22    0.006076\n",
       "2017-05-23   -0.001234\n",
       "2017-05-24   -0.002991\n",
       "2017-05-25    0.003456\n",
       "2017-05-26   -0.001690\n",
       "2017-05-30    0.000391\n",
       "2017-05-31   -0.005922\n",
       "2017-06-01    0.002749\n",
       "2017-06-02    0.014819\n",
       "2017-06-05   -0.009778\n",
       "2017-06-06    0.003378\n",
       "2017-06-07    0.005957\n",
       "2017-06-08   -0.002446\n",
       "2017-06-09   -0.038777\n",
       "2017-06-12   -0.023896\n",
       "                ...   \n",
       "2017-07-11    0.003240\n",
       "2017-07-12    0.001443\n",
       "2017-07-13    0.013929\n",
       "2017-07-14    0.008594\n",
       "2017-07-17    0.003489\n",
       "2017-07-18    0.003477\n",
       "2017-07-19    0.006263\n",
       "2017-07-20   -0.004503\n",
       "2017-07-21   -0.000466\n",
       "2017-07-24    0.012112\n",
       "2017-07-25    0.004274\n",
       "2017-07-26    0.004714\n",
       "2017-07-27   -0.018897\n",
       "2017-07-28   -0.007040\n",
       "2017-07-31   -0.005151\n",
       "2017-08-01    0.008875\n",
       "2017-08-02    0.047251\n",
       "2017-08-03   -0.009991\n",
       "2017-08-04    0.005271\n",
       "2017-08-07    0.015474\n",
       "2017-08-08    0.007997\n",
       "2017-08-09    0.006122\n",
       "2017-08-10   -0.035639\n",
       "2017-08-11    0.013907\n",
       "2017-08-14    0.015050\n",
       "2017-08-15    0.010948\n",
       "2017-08-16   -0.004022\n",
       "2017-08-17   -0.019199\n",
       "2017-08-18   -0.002281\n",
       "2017-08-21   -0.001841\n",
       "Name: Close, Length: 79, dtype: float64"
      ]
     },
     "execution_count": 39,
     "metadata": {},
     "output_type": "execute_result"
    }
   ],
   "source": [
    "#calculate the percentage change in time series\n",
    "df['Close'].pct_change()"
   ]
  },
  {
   "cell_type": "code",
   "execution_count": 44,
   "metadata": {},
   "outputs": [
    {
     "data": {
      "text/plain": [
       "0.009662122803378843"
      ]
     },
     "execution_count": 44,
     "metadata": {},
     "output_type": "execute_result"
    }
   ],
   "source": [
    "# calc the mean of pct change\n",
    "df['Close'].pct_change(13).mean()"
   ]
  },
  {
   "cell_type": "code",
   "execution_count": 46,
   "metadata": {},
   "outputs": [
    {
     "data": {
      "text/plain": [
       "Date\n",
       "2017-05-01         NaN\n",
       "2017-05-02         NaN\n",
       "2017-05-03         NaN\n",
       "2017-05-04         NaN\n",
       "2017-05-05         NaN\n",
       "2017-05-08         NaN\n",
       "2017-05-09         NaN\n",
       "2017-05-10         NaN\n",
       "2017-05-11         NaN\n",
       "2017-05-12         NaN\n",
       "2017-05-15         NaN\n",
       "2017-05-16         NaN\n",
       "2017-05-17         NaN\n",
       "2017-05-18         NaN\n",
       "2017-05-19         NaN\n",
       "2017-05-22         NaN\n",
       "2017-05-23         NaN\n",
       "2017-05-24         NaN\n",
       "2017-05-25         NaN\n",
       "2017-05-26         NaN\n",
       "2017-05-30         NaN\n",
       "2017-05-31         NaN\n",
       "2017-06-01         NaN\n",
       "2017-06-02         NaN\n",
       "2017-06-05         NaN\n",
       "2017-06-06         NaN\n",
       "2017-06-07         NaN\n",
       "2017-06-08         NaN\n",
       "2017-06-09         NaN\n",
       "2017-06-12         NaN\n",
       "                ...   \n",
       "2017-07-11   -0.036422\n",
       "2017-07-12   -0.033792\n",
       "2017-07-13   -0.031211\n",
       "2017-07-14   -0.027464\n",
       "2017-07-17   -0.022643\n",
       "2017-07-18   -0.017722\n",
       "2017-07-19   -0.013288\n",
       "2017-07-20   -0.008659\n",
       "2017-07-21   -0.003478\n",
       "2017-07-24    0.001734\n",
       "2017-07-25    0.007592\n",
       "2017-07-26    0.013584\n",
       "2017-07-27    0.018849\n",
       "2017-07-28    0.021155\n",
       "2017-07-31    0.022702\n",
       "2017-08-01    0.024271\n",
       "2017-08-02    0.027404\n",
       "2017-08-03    0.029383\n",
       "2017-08-04    0.031232\n",
       "2017-08-07    0.034391\n",
       "2017-08-08    0.037459\n",
       "2017-08-09    0.040990\n",
       "2017-08-10    0.041965\n",
       "2017-08-11    0.042958\n",
       "2017-08-14    0.043889\n",
       "2017-08-15    0.045449\n",
       "2017-08-16    0.047709\n",
       "2017-08-17    0.048199\n",
       "2017-08-18    0.048474\n",
       "2017-08-21    0.046248\n",
       "Name: Close, Length: 79, dtype: float64"
      ]
     },
     "execution_count": 46,
     "metadata": {},
     "output_type": "execute_result"
    }
   ],
   "source": [
    "# Rolling windows, to calc the rolling mean\n",
    "# Rolling windows is used to smooth data with comparitvely bigger windows\n",
    "\n",
    "df['Close'].pct_change(13).rolling(21).mean()\n"
   ]
  },
  {
   "cell_type": "code",
   "execution_count": 48,
   "metadata": {},
   "outputs": [],
   "source": [
    "n=13\n",
    "ma_8 = df['Close'].pct_change(n).rolling(window=8).mean()\n",
    "ma_13= df['Close'].pct_change(n).rolling(window=13).mean()\n",
    "ma_21= df['Close'].pct_change(n).rolling(window=21).mean()\n",
    "ma_34= df['Close'].pct_change(n).rolling(window=34).mean()\n",
    "ma_55= df['Close'].pct_change(n).rolling(window=55).mean()"
   ]
  },
  {
   "cell_type": "code",
   "execution_count": 50,
   "metadata": {},
   "outputs": [
    {
     "data": {
      "text/plain": [
       "<matplotlib.axes._subplots.AxesSubplot at 0x11179eba8>"
      ]
     },
     "execution_count": 50,
     "metadata": {},
     "output_type": "execute_result"
    },
    {
     "data": {
      "image/png": "[encoded data removed]",
      "text/plain": [
       "<matplotlib.figure.Figure at 0x1154e2748>"
      ]
     },
     "metadata": {},
     "output_type": "display_data"
    }
   ],
   "source": [
    "ma_8.plot()\n",
    "ma_34.plot()"
   ]
  },
  {
   "cell_type": "code",
   "execution_count": null,
   "metadata": {
    "collapsed": true
   },
   "outputs": [],
   "source": []
  }
 ],
 "metadata": {
  "kernelspec": {
   "display_name": "Python 3",
   "language": "python",
   "name": "python3"
  },
  "language_info": {
   "codemirror_mode": {
    "name": "ipython",
    "version": 3
   },
   "file_extension": ".py",
   "mimetype": "text/x-python",
   "name": "python",
   "nbconvert_exporter": "python",
   "pygments_lexer": "ipython3",
   "version": "3.6.1"
  }
 },
 "nbformat": 4,
 "nbformat_minor": 2
}
