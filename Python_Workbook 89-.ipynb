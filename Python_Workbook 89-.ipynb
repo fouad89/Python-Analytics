{
 "cells": [
  {
   "cell_type": "code",
   "execution_count": null,
   "metadata": {},
   "outputs": [],
   "source": [
    "#EX89\n",
    "'''import sql database from database.db, which has a table of 50 country names with their populations\n",
    "then excute sql code to print out names of countries with population more than 2000000 sq km. \n",
    "'''\n",
    "import sqlite3\n",
    "conn=sqlite3.connect('database.db')\n",
    "cur=conn.cursor()\n",
    "cur.execute(\"SELECT country FROM countries WHERE area>=2000000\")\n",
    "rows=cur.fetchall()\n",
    "conn.close()\n",
    "\n",
    "for i in rows:\n",
    "    print(i[0])"
   ]
  },
  {
   "cell_type": "code",
   "execution_count": null,
   "metadata": {
    "collapsed": true
   },
   "outputs": [],
   "source": [
    "#EX90\n",
    "'''write database file to csv file using pandas data frames'''\n",
    "\n",
    "import sqlite3\n",
    "import pandas\n",
    "conn=sqlite3.connect('database.db')\n",
    "cur=conn.cursor()\n",
    "cur.execute('SELECT * FROM countries WHERE area>=2000000')\n",
    "rows=cur.fetchall()\n",
    "conn.close()\n",
    "#converting to df and csv\n",
    "df=pandas.DataFrame.from_records(rows)\n",
    "df.columns=[\"Rank\",\"Country\",\"Area\",\"Population\"]\n",
    "df.to_csv('countries_by_area.txt', index=False)"
   ]
  },
  {
   "cell_type": "code",
   "execution_count": null,
   "metadata": {},
   "outputs": [],
   "source": [
    "df['Area']"
   ]
  },
  {
   "cell_type": "code",
   "execution_count": null,
   "metadata": {
    "collapsed": true
   },
   "outputs": [],
   "source": [
    "#EX91\n",
    "'''commit changes to database by adding a new csv file'''\n",
    "import sqlite3\n",
    "import pandas\n",
    "\n",
    "data=pandas.read_csv('ten-more-countries.txt')\n",
    "conn=sqlite3.connect('database.db')\n",
    "cur=conn.cursor()\n",
    "\n",
    "for index,row in data.iterrows():\n",
    "    cur.execute(\"INSERT INTO countries VALUES (NULL,?,?,NULL)\",(row['Country'], row['Area'])) \n",
    "\n",
    "conn.commit()\n",
    "conn.close()"
   ]
  },
  {
   "cell_type": "code",
   "execution_count": null,
   "metadata": {},
   "outputs": [],
   "source": [
    "#EX92 \n",
    "'''count number of files in a directory= using glob'''\n",
    "import glob\n",
    "file_list=glob.glob1('/Users/spydermac/Desktop/Python Analytics/','*.ipynb')\n",
    "print(len(file_list))"
   ]
  },
  {
   "cell_type": "code",
   "execution_count": null,
   "metadata": {},
   "outputs": [],
   "source": [
    "#EX93 \n",
    "'''Please download the attached ZIP file. Inside the ZIP file there's a directory named subdirs.\n",
    "That directory contains other directories inside. Please write a script that counts the number of\n",
    ".py files contained inside subdirs and all its sub-directories.'''\n",
    "import glob\n",
    "file_list=glob.glob('subdirs/**/*.py', recursive=True)\n",
    "print (len(file_list))"
   ]
  },
  {
   "cell_type": "code",
   "execution_count": null,
   "metadata": {},
   "outputs": [],
   "source": [
    "# EX94\n",
    "''' Please download the attached urls.txt file. The file contains some broken URLs. Here's what the file contains:\n",
    "\n",
    "https:/www.google.com\n",
    "https:/www.yahoo.com\n",
    "https:/www.stackoverflow.com\n",
    "https:/www.pythonhow.com\n",
    "Please use Python to remove the \"s\" from \"https\" and add another forward slash next to the existing slash,\n",
    "so the content looks like in the expected output.'''\n",
    "with open('urls.txt') as file:\n",
    "    url_list=file.readlines()\n",
    "with open('urls_corrected.txt','w') as f:\n",
    "    for url in url_list:\n",
    "        url_remove_s=url.replace('s','',1)\n",
    "        print(url_remove_s)\n",
    "    \n",
    "        \n",
    "        #to add / at the exact position\n",
    "        new_url=url_remove_s[:6]+'/'+url_remove_s[6:]\n",
    "        print(new_url)\n",
    "        f.write(new_url)"
   ]
  },
  {
   "cell_type": "code",
   "execution_count": null,
   "metadata": {
    "collapsed": true
   },
   "outputs": [],
   "source": [
    "#EX95 \n",
    "'''storing comma seperate input into file'''\n",
    "def storing_words():\n",
    "    word =input('Enter Values with a comma between: ')\n",
    "    seperated_word=word.split(',')\n",
    "    with open('user_data.txt','a+') as file:#read and append\n",
    "        file.seek(0)\n",
    "        for word in seperated_word:\n",
    "            file.write(word+'\\n')\n",
    "        \n"
   ]
  },
  {
   "cell_type": "code",
   "execution_count": null,
   "metadata": {},
   "outputs": [],
   "source": [
    "storing_words()"
   ]
  },
  {
   "cell_type": "code",
   "execution_count": null,
   "metadata": {
    "collapsed": true
   },
   "outputs": [],
   "source": [
    "#EX96 \n",
    "'''storing data in a file and keep running until the word CLOSE is entered'''\n",
    "def word_file():\n",
    "    while True:\n",
    "        user_input=input('Enter your word, Enter CLOSE when done: ')\n",
    "        with open('user_data.txt','a+') as file:\n",
    "            if user_input.upper()!='CLOSE':\n",
    "                file.write(user_input+'\\n')\n",
    "            else:\n",
    "                break\n",
    "            "
   ]
  },
  {
   "cell_type": "code",
   "execution_count": null,
   "metadata": {},
   "outputs": [],
   "source": [
    "word_file()"
   ]
  },
  {
   "cell_type": "code",
   "execution_count": null,
   "metadata": {
    "collapsed": true
   },
   "outputs": [],
   "source": [
    "def save_close_file():\n",
    "    file=open('save_close_file.txt','a+')\n",
    "    input_list=[]\n",
    "    while True:\n",
    "        \n",
    "        user_input=input('Enter value or SAVE to save words, CLOSE to exit: ')\n",
    "        if user_input.upper()=='SAVE':\n",
    "            for i in input_list:\n",
    "                file.write(i+'\\n')\n",
    "            file.close()\n",
    "            file=open('save_close_file.txt','a+')\n",
    "            input_list=[]\n",
    "        elif user_input.upper()=='CLOSE':\n",
    "            for i in input_list:\n",
    "                file.write(i+'\\n')\n",
    "            file.close()\n",
    "            break\n",
    "        else:\n",
    "            input_list.append(user_input)\n",
    "            for i in input_list:\n",
    "                print(i)"
   ]
  },
  {
   "cell_type": "code",
   "execution_count": null,
   "metadata": {},
   "outputs": [],
   "source": [
    "save_close_file()"
   ]
  },
  {
   "cell_type": "code",
   "execution_count": null,
   "metadata": {
    "collapsed": true
   },
   "outputs": [],
   "source": [
    "#EX98 \n",
    "'''create GUI to add words to file.'''\n",
    "from tkinter import *\n",
    "window=Tk()\n",
    "file=open('user_gui.txt','a+')\n",
    "def add():\n",
    "    file.write(entry.get()+'\\n') #to get file from window entry\n",
    "    entry.delete(0,END)\n",
    "def save():\n",
    "    global file\n",
    "    file.close()\n",
    "    file=open('user_gui.txt','a+')\n",
    "def close():\n",
    "    file.close\n",
    "    window.destroy()\n",
    "'''\n",
    "Text entry field\n",
    "'''\n",
    "user_value = StringVar()\n",
    "entry=Entry(window,textvariable=user_value)\n",
    "entry.pack\n",
    "entry.grid(row=0,column=0)\n",
    "\n",
    "'''\n",
    "Add line button\n",
    "'''\n",
    "button_add=Button(window, text='Add Line', command=add)\n",
    "button_add.grid(row=0,column=1)\n",
    "\n",
    "button_save=Button(window, text='Save Changes', command=save)\n",
    "button_save.grid(row=0,column=2)\n",
    "\n",
    "button_close=Button(window, text='Save&Close', command=close)\n",
    "button_close.grid(row=0,column=3)\n",
    "\n",
    "window.mainloop()"
   ]
  },
  {
   "cell_type": "code",
   "execution_count": null,
   "metadata": {
    "collapsed": true
   },
   "outputs": [],
   "source": []
  },
  {
   "cell_type": "code",
   "execution_count": null,
   "metadata": {
    "collapsed": true
   },
   "outputs": [],
   "source": []
  }
 ],
 "metadata": {
  "kernelspec": {
   "display_name": "Python 3",
   "language": "python",
   "name": "python3"
  },
  "language_info": {
   "codemirror_mode": {
    "name": "ipython",
    "version": 3
   },
   "file_extension": ".py",
   "mimetype": "text/x-python",
   "name": "python",
   "nbconvert_exporter": "python",
   "pygments_lexer": "ipython3",
   "version": "3.6.1"
  }
 },
 "nbformat": 4,
 "nbformat_minor": 2
}
