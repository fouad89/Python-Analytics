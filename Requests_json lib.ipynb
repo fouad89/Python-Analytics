{
 "cells": [
  {
   "cell_type": "code",
   "execution_count": 88,
   "metadata": {},
   "outputs": [
    {
     "data": {
      "text/plain": [
       "dict"
      ]
     },
     "execution_count": 88,
     "metadata": {},
     "output_type": "execute_result"
    }
   ],
   "source": [
    "import requests\n",
    "import json\n",
    "address=\"Columbia University, New York, NY\"\n",
    "url=\"https://maps.googleapis.com/maps/api/geocode/json?address=%s\" % (address)\n",
    "response = requests.get(url).json()\n",
    "response=requests.get(url).json()\n",
    "type(response)"
   ]
  },
  {
   "cell_type": "code",
   "execution_count": 89,
   "metadata": {},
   "outputs": [
    {
     "name": "stdout",
     "output_type": "stream",
     "text": [
      "<class 'dict'>\n"
     ]
    }
   ],
   "source": [
    "try:\n",
    "    response=requests.get(url)\n",
    "    if not response.status_code==200:\n",
    "        print('http error', response.status_code)\n",
    "    else:\n",
    "        try:\n",
    "            response_data=response.json()\n",
    "        except:\n",
    "            print('invalid json format')\n",
    "except:\n",
    "    print('error happened here!')\n",
    "print(type(response_data))"
   ]
  },
  {
   "cell_type": "code",
   "execution_count": 90,
   "metadata": {
    "scrolled": true
   },
   "outputs": [
    {
     "name": "stdout",
     "output_type": "stream",
     "text": [
      "{'results': [{'address_components': [{'long_name': '116th St', 'short_name': '116th St', 'types': ['route']}, {'long_name': 'Manhattan', 'short_name': 'Manhattan', 'types': ['political', 'sublocality', 'sublocality_level_1']}, {'long_name': 'New York', 'short_name': 'New York', 'types': ['locality', 'political']}, {'long_name': 'New York County', 'short_name': 'New York County', 'types': ['administrative_area_level_2', 'political']}, {'long_name': 'New York', 'short_name': 'NY', 'types': ['administrative_area_level_1', 'political']}, {'long_name': 'United States', 'short_name': 'US', 'types': ['country', 'political']}, {'long_name': '10027', 'short_name': '10027', 'types': ['postal_code']}], 'formatted_address': '116th St & Broadway, New York, NY 10027, USA', 'geometry': {'location': {'lat': 40.8075355, 'lng': -73.9625727}, 'location_type': 'GEOMETRIC_CENTER', 'viewport': {'northeast': {'lat': 40.8088844802915, 'lng': -73.96122371970849}, 'southwest': {'lat': 40.8061865197085, 'lng': -73.9639216802915}}}, 'place_id': 'ChIJyQ3Tlj72wokRUCflR_kzeVc', 'types': ['establishment', 'point_of_interest', 'university']}], 'status': 'OK'}\n",
      "address_components\n",
      "formatted_address\n",
      "geometry\n",
      "place_id\n",
      "types\n"
     ]
    }
   ],
   "source": [
    "print(response_data)\n",
    "for i in response_data[\"results\"][0]:\n",
    "    print(i)"
   ]
  },
  {
   "cell_type": "code",
   "execution_count": 91,
   "metadata": {},
   "outputs": [
    {
     "data": {
      "text/plain": [
       "'116th St & Broadway, New York, NY 10027, USA'"
      ]
     },
     "execution_count": 91,
     "metadata": {},
     "output_type": "execute_result"
    }
   ],
   "source": [
    "response_data[\"results\"][0]['geometry']['location']\n",
    "response_data[\"results\"][0]['formatted_address']"
   ]
  },
  {
   "cell_type": "code",
   "execution_count": 94,
   "metadata": {},
   "outputs": [],
   "source": [
    "def get_lat_lng(address_link):\n",
    "    url=\"https://maps.googleapis.com/maps/api/geocode/json?address=%s\" % (address_link)\n",
    "    response=requests.get(url).json()\n",
    "    print('complete address: ',response[\"results\"][0]['formatted_address'])\n",
    "    for key,value in response[\"results\"][0]['geometry']['location'].items():\n",
    "        print(key,value)"
   ]
  },
  {
   "cell_type": "code",
   "execution_count": 98,
   "metadata": {},
   "outputs": [
    {
     "name": "stdout",
     "output_type": "stream",
     "text": [
      "complete address:  Hollyhill Ln, Hollyhill Industrial Estate, Cork, Ireland\n",
      "lat 51.9065228\n",
      "lng -8.513808299999999\n"
     ]
    }
   ],
   "source": [
    "get_lat_lng(\"Apple Cork\")"
   ]
  },
  {
   "cell_type": "code",
   "execution_count": 83,
   "metadata": {},
   "outputs": [],
   "source": [
    "#x=json.loads('[[{\"equity\":{[\"ticker\":\"AAPL\", \"value\":139.78, \"change\": \"+0.59%\"]}],\"option\":[{\"ticker\":\"AAPLOCT17120\",\"value\":21.22,\"change\":\"-2.4%\"}]}]]')\n",
    "#y=json.loads('[[{\"equity\":[{\"ticker\":\"AAPL\", \"value\":139.78, \"change\": \"+0.59%\"}],\"option\":[{\"ticker\":\"AAPLOCT17120\",\"value\":21.22,\"change\":\"-2.4%\"}]}]]')\n",
    "\n",
    "#json.loads(x)"
   ]
  },
  {
   "cell_type": "code",
   "execution_count": 64,
   "metadata": {
    "collapsed": true
   },
   "outputs": [],
   "source": [
    "y=json.loads('[[{\"equity\":[{\"ticker\":\"AAPL\", \"value\":139.78, \"change\": \"+0.59%\"}],\"option\":[{\"ticker\":\"AAPLOCT17120\",\"value\":21.22,\"change\":\"-2.4%\"}]}]]')\n"
   ]
  },
  {
   "cell_type": "code",
   "execution_count": 77,
   "metadata": {},
   "outputs": [
    {
     "data": {
      "text/plain": [
       "'AAPLOCT17120'"
      ]
     },
     "execution_count": 77,
     "metadata": {},
     "output_type": "execute_result"
    }
   ],
   "source": [
    "y[0][0]['option'][0]['ticker']"
   ]
  },
  {
   "cell_type": "code",
   "execution_count": null,
   "metadata": {
    "collapsed": true
   },
   "outputs": [],
   "source": []
  }
 ],
 "metadata": {
  "kernelspec": {
   "display_name": "Python 3",
   "language": "python",
   "name": "python3"
  },
  "language_info": {
   "codemirror_mode": {
    "name": "ipython",
    "version": 3
   },
   "file_extension": ".py",
   "mimetype": "text/x-python",
   "name": "python",
   "nbconvert_exporter": "python",
   "pygments_lexer": "ipython3",
   "version": "3.6.1"
  }
 },
 "nbformat": 4,
 "nbformat_minor": 2
}
