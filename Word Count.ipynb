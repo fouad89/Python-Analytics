{
 "cells": [
  {
   "cell_type": "code",
   "execution_count": 1,
   "metadata": {},
   "outputs": [],
   "source": [
    "def word_distribution(word):\n",
    "    '''This function will take some user input(sentences), strip functions and provide a dictionar\n",
    "    for word count'''\n",
    "    import string\n",
    "    word_dict=dict()\n",
    "    \n",
    "    word= word.lower()\n",
    "    word_list=[x.strip(string.punctuation) for x in word.split()]#generate a list of words with stripped punctuation\n",
    "    \n",
    "    for item in word_list:\n",
    "        if item in word_dict: #if key of dict is already there, then add one to count\n",
    "            word_dict[item]+=1\n",
    "        else:\n",
    "            word_dict[item]=1 # if the key is not in the dict, start the count\n",
    "    return word_dict"
   ]
  },
  {
   "cell_type": "code",
   "execution_count": 2,
   "metadata": {},
   "outputs": [
    {
     "name": "stdout",
     "output_type": "stream",
     "text": [
      "whats your sentence? lets count your words \n",
      "It was the best of times, it was the worst of times, it was the age of wisdom, it was the age of foolishness, it was the epoch of belief, it was the epoch of incredulity, it was the season of Light, it was the season of Darkness, it was the spring of hope, it was the winter of despair, we had everything before us, we had nothing before us, we were all going direct to Heaven, we were all going direct the other way — in short, the period was so far like the present period, that some of its noisiest authorities insisted on its being received, for good or for evil, in the superlative degree of comparison only.\n"
     ]
    },
    {
     "data": {
      "text/plain": [
       "{'age': 2,\n",
       " 'all': 2,\n",
       " 'authorities': 1,\n",
       " 'before': 2,\n",
       " 'being': 1,\n",
       " 'belief': 1,\n",
       " 'best': 1,\n",
       " 'comparison': 1,\n",
       " 'darkness': 1,\n",
       " 'degree': 1,\n",
       " 'despair': 1,\n",
       " 'direct': 2,\n",
       " 'epoch': 2,\n",
       " 'everything': 1,\n",
       " 'evil': 1,\n",
       " 'far': 1,\n",
       " 'foolishness': 1,\n",
       " 'for': 2,\n",
       " 'going': 2,\n",
       " 'good': 1,\n",
       " 'had': 2,\n",
       " 'heaven': 1,\n",
       " 'hope': 1,\n",
       " 'in': 2,\n",
       " 'incredulity': 1,\n",
       " 'insisted': 1,\n",
       " 'it': 10,\n",
       " 'its': 2,\n",
       " 'light': 1,\n",
       " 'like': 1,\n",
       " 'noisiest': 1,\n",
       " 'nothing': 1,\n",
       " 'of': 12,\n",
       " 'on': 1,\n",
       " 'only': 1,\n",
       " 'or': 1,\n",
       " 'other': 1,\n",
       " 'period': 2,\n",
       " 'present': 1,\n",
       " 'received': 1,\n",
       " 'season': 2,\n",
       " 'short': 1,\n",
       " 'so': 1,\n",
       " 'some': 1,\n",
       " 'spring': 1,\n",
       " 'superlative': 1,\n",
       " 'that': 1,\n",
       " 'the': 14,\n",
       " 'times': 2,\n",
       " 'to': 1,\n",
       " 'us': 2,\n",
       " 'was': 11,\n",
       " 'way': 1,\n",
       " 'we': 4,\n",
       " 'were': 2,\n",
       " 'winter': 1,\n",
       " 'wisdom': 1,\n",
       " 'worst': 1,\n",
       " '—': 1}"
      ]
     },
     "execution_count": 2,
     "metadata": {},
     "output_type": "execute_result"
    }
   ],
   "source": [
    "user_input=input('whats your sentence? lets count your words \\n')\n",
    "word_distribution(user_input)"
   ]
  },
  {
   "cell_type": "code",
   "execution_count": null,
   "metadata": {
    "collapsed": true
   },
   "outputs": [],
   "source": []
  }
 ],
 "metadata": {
  "kernelspec": {
   "display_name": "Python 3",
   "language": "python",
   "name": "python3"
  },
  "language_info": {
   "codemirror_mode": {
    "name": "ipython",
    "version": 3
   },
   "file_extension": ".py",
   "mimetype": "text/x-python",
   "name": "python",
   "nbconvert_exporter": "python",
   "pygments_lexer": "ipython3",
   "version": "3.6.1"
  }
 },
 "nbformat": 4,
 "nbformat_minor": 2
}
