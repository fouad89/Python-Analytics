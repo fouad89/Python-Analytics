{
 "cells": [
  {
   "cell_type": "markdown",
   "metadata": {},
   "source": [
    "### XML Extensible Markup Language"
   ]
  },
  {
   "cell_type": "code",
   "execution_count": 3,
   "metadata": {},
   "outputs": [
    {
     "name": "stdout",
     "output_type": "stream",
     "text": [
      "Bookstore\n"
     ]
    }
   ],
   "source": [
    "#Documentation http://lxml.de/1.3/tutorial.html\n",
    "data_string = \"\"\"\n",
    "<Bookstore>\n",
    "   <Book ISBN=\"ISBN-13:978-1599620787\" Price=\"15.23\" Weight=\"1.5\">\n",
    "      <Title>New York Deco</Title>\n",
    "      <Authors>\n",
    "         <Author Residence=\"New York City\">\n",
    "            <First_Name>Richard</First_Name>\n",
    "            <Last_Name>Berenholtz</Last_Name>\n",
    "         </Author>\n",
    "      </Authors>\n",
    "   </Book>\n",
    "   <Book ISBN=\"ISBN-13:978-1579128562\" Price=\"15.80\">\n",
    "      <Remark>\n",
    "      Five Hundred Buildings of New York and over one million other books are available for Amazon Kindle.\n",
    "      </Remark>\n",
    "      <Title>Five Hundred Buildings of New York</Title>\n",
    "      <Authors>\n",
    "         <Author Residence=\"Beijing\">\n",
    "            <First_Name>Bill</First_Name>\n",
    "            <Last_Name>Harris</Last_Name>\n",
    "         </Author>\n",
    "         <Author Residence=\"New York City\">\n",
    "            <First_Name>Jorg</First_Name>\n",
    "            <Last_Name>Brockmann</Last_Name>\n",
    "         </Author>\n",
    "      </Authors>\n",
    "   </Book>\n",
    "</Bookstore>\n",
    "\"\"\"\n",
    "from lxml import etree\n",
    "root=etree.XML(data_string)\n",
    "print(root.tag)"
   ]
  },
  {
   "cell_type": "code",
   "execution_count": 4,
   "metadata": {},
   "outputs": [
    {
     "name": "stdout",
     "output_type": "stream",
     "text": [
      "<Bookstore>\n",
      "   <Book ISBN=\"ISBN-13:978-1599620787\" Price=\"15.23\" Weight=\"1.5\">\n",
      "      <Title>New York Deco</Title>\n",
      "      <Authors>\n",
      "         <Author Residence=\"New York City\">\n",
      "            <First_Name>Richard</First_Name>\n",
      "            <Last_Name>Berenholtz</Last_Name>\n",
      "         </Author>\n",
      "      </Authors>\n",
      "   </Book>\n",
      "   <Book ISBN=\"ISBN-13:978-1579128562\" Price=\"15.80\">\n",
      "      <Remark>\n",
      "      Five Hundred Buildings of New York and over one million other books are available for Amazon Kindle.\n",
      "      </Remark>\n",
      "      <Title>Five Hundred Buildings of New York</Title>\n",
      "      <Authors>\n",
      "         <Author Residence=\"Beijing\">\n",
      "            <First_Name>Bill</First_Name>\n",
      "            <Last_Name>Harris</Last_Name>\n",
      "         </Author>\n",
      "         <Author Residence=\"New York City\">\n",
      "            <First_Name>Jorg</First_Name>\n",
      "            <Last_Name>Brockmann</Last_Name>\n",
      "         </Author>\n",
      "      </Authors>\n",
      "   </Book>\n",
      "</Bookstore>\n",
      "\n"
     ]
    }
   ],
   "source": [
    "print(etree.tostring(root,pretty_print=True).decode('utf-8'))"
   ]
  },
  {
   "cell_type": "code",
   "execution_count": 5,
   "metadata": {},
   "outputs": [
    {
     "name": "stdout",
     "output_type": "stream",
     "text": [
      "<Element Bookstore at 0x1034a66c8>\n",
      "<Element Book at 0x1034a6208>\n",
      "<Element Title at 0x1034a6488>\n",
      "<Element Authors at 0x1034a6908>\n",
      "<Element Author at 0x1034a6208>\n",
      "<Element First_Name at 0x1034a6488>\n",
      "<Element Last_Name at 0x1034a6908>\n",
      "<Element Book at 0x1034a6a08>\n",
      "<Element Remark at 0x1034a65c8>\n",
      "<Element Title at 0x1034a6908>\n",
      "<Element Authors at 0x1034a6a08>\n",
      "<Element Author at 0x1034a65c8>\n",
      "<Element First_Name at 0x1034a6908>\n",
      "<Element Last_Name at 0x1034a6208>\n",
      "<Element Author at 0x1034a6a48>\n",
      "<Element First_Name at 0x1034a6488>\n",
      "<Element Last_Name at 0x1034a6208>\n"
     ]
    }
   ],
   "source": [
    "for item in root.iter():#iterate of elements of the tre\n",
    "    print(item)"
   ]
  },
  {
   "cell_type": "code",
   "execution_count": 6,
   "metadata": {},
   "outputs": [
    {
     "name": "stdout",
     "output_type": "stream",
     "text": [
      "<Element Book at 0x1034a6d48>\n",
      "<Element Book at 0x1034a6dc8>\n"
     ]
    }
   ],
   "source": [
    "for child in root:\n",
    "    print(child)"
   ]
  },
  {
   "cell_type": "code",
   "execution_count": 10,
   "metadata": {},
   "outputs": [
    {
     "name": "stdout",
     "output_type": "stream",
     "text": [
      "Richard Berenholtz\n",
      "Bill Harris\n",
      "Jorg Brockmann\n"
     ]
    }
   ],
   "source": [
    "for item in root.iter('Author'):\n",
    "    print(item.find('First_Name').text, item.find('Last_Name').text)"
   ]
  },
  {
   "cell_type": "code",
   "execution_count": 11,
   "metadata": {},
   "outputs": [
    {
     "name": "stdout",
     "output_type": "stream",
     "text": [
      "New York Deco\n",
      "Five Hundred Buildings of New York\n"
     ]
    }
   ],
   "source": [
    "for element in root.findall('Book/Title'):\n",
    "    print(element.text)"
   ]
  },
  {
   "cell_type": "code",
   "execution_count": 17,
   "metadata": {},
   "outputs": [
    {
     "name": "stdout",
     "output_type": "stream",
     "text": [
      "Berenholtz\n",
      "Harris\n",
      "Brockmann\n"
     ]
    }
   ],
   "source": [
    "for element in root.findall('Book/Authors/Author/Last_Name'):#using xpath\n",
    "    print(element.text)"
   ]
  },
  {
   "cell_type": "code",
   "execution_count": 18,
   "metadata": {},
   "outputs": [
    {
     "ename": "SyntaxError",
     "evalue": "invalid predicate (<string>)",
     "output_type": "error",
     "traceback": [
      "\u001b[0;36m  File \u001b[0;32m\"<string>\"\u001b[0;36m, line \u001b[0;32munknown\u001b[0m\n\u001b[0;31mSyntaxError\u001b[0m\u001b[0;31m:\u001b[0m invalid predicate\n"
     ]
    }
   ],
   "source": [
    "#to find attribute\n",
    "root.find('Book[@Weight=\"1.5]/Authors/Author/First_Name').text"
   ]
  },
  {
   "cell_type": "code",
   "execution_count": null,
   "metadata": {
    "collapsed": true
   },
   "outputs": [],
   "source": []
  }
 ],
 "metadata": {
  "kernelspec": {
   "display_name": "Python 3",
   "language": "python",
   "name": "python3"
  },
  "language_info": {
   "codemirror_mode": {
    "name": "ipython",
    "version": 3
   },
   "file_extension": ".py",
   "mimetype": "text/x-python",
   "name": "python",
   "nbconvert_exporter": "python",
   "pygments_lexer": "ipython3",
   "version": "3.6.1"
  }
 },
 "nbformat": 4,
 "nbformat_minor": 2
}
