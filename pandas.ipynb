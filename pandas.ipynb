{
 "cells": [
  {
   "cell_type": "markdown",
   "metadata": {},
   "source": [
    "<h1>Pandas</h1>"
   ]
  },
  {
   "cell_type": "code",
   "execution_count": 1,
   "metadata": {},
   "outputs": [
    {
     "name": "stdout",
     "output_type": "stream",
     "text": [
      "Requirement already satisfied: pandas-datareader in /Users/spydermac/anaconda/lib/python3.6/site-packages\n",
      "Requirement already satisfied: requests-file in /Users/spydermac/anaconda/lib/python3.6/site-packages (from pandas-datareader)\n",
      "Requirement already satisfied: requests>=2.3.0 in /Users/spydermac/anaconda/lib/python3.6/site-packages (from pandas-datareader)\n",
      "Requirement already satisfied: requests-ftp in /Users/spydermac/anaconda/lib/python3.6/site-packages (from pandas-datareader)\n",
      "Requirement already satisfied: pandas>=0.17.0 in /Users/spydermac/anaconda/lib/python3.6/site-packages (from pandas-datareader)\n",
      "Requirement already satisfied: six in /Users/spydermac/anaconda/lib/python3.6/site-packages (from requests-file->pandas-datareader)\n",
      "Requirement already satisfied: python-dateutil>=2 in /Users/spydermac/anaconda/lib/python3.6/site-packages (from pandas>=0.17.0->pandas-datareader)\n",
      "Requirement already satisfied: pytz>=2011k in /Users/spydermac/anaconda/lib/python3.6/site-packages (from pandas>=0.17.0->pandas-datareader)\n",
      "Requirement already satisfied: numpy>=1.7.0 in /Users/spydermac/anaconda/lib/python3.6/site-packages (from pandas>=0.17.0->pandas-datareader)\n",
      "Requirement already up-to-date: html5lib==1.0b8 in /Users/spydermac/anaconda/lib/python3.6/site-packages\n",
      "Requirement already up-to-date: six in /Users/spydermac/anaconda/lib/python3.6/site-packages (from html5lib==1.0b8)\n"
     ]
    }
   ],
   "source": [
    "#installing pandas libraries\n",
    "!pip install pandas-datareader\n",
    "!pip install --upgrade html5lib==1.0b8\n",
    "\n",
    "#There is a bug in the latest version of html5lib so install an earlier version\n",
    "#Restart kernel after installing html5lib"
   ]
  },
  {
   "cell_type": "markdown",
   "metadata": {},
   "source": [
    "<h2>Imports</h2>"
   ]
  },
  {
   "cell_type": "code",
   "execution_count": 2,
   "metadata": {},
   "outputs": [],
   "source": [
    "import pandas as pd #pandas library\n",
    "from pandas_datareader import data #data readers (google, html, etc.)\n",
    "#The following line ensures that graphs are rendered in the notebook\n",
    "%matplotlib inline \n",
    "import numpy as np\n",
    "import matplotlib.pyplot as plt #Plotting library\n",
    "import datetime as dt #datetime for timeseries support"
   ]
  },
  {
   "cell_type": "markdown",
   "metadata": {},
   "source": [
    "<h2>The structure of a dataframe</h2>"
   ]
  },
  {
   "cell_type": "code",
   "execution_count": 3,
   "metadata": {},
   "outputs": [
    {
     "data": {
      "text/html": [
       "<div>\n",
       "<style>\n",
       "    .dataframe thead tr:only-child th {\n",
       "        text-align: right;\n",
       "    }\n",
       "\n",
       "    .dataframe thead th {\n",
       "        text-align: left;\n",
       "    }\n",
       "\n",
       "    .dataframe tbody tr th {\n",
       "        vertical-align: top;\n",
       "    }\n",
       "</style>\n",
       "<table border=\"1\" class=\"dataframe\">\n",
       "  <thead>\n",
       "    <tr style=\"text-align: right;\">\n",
       "      <th></th>\n",
       "      <th>A</th>\n",
       "      <th>B</th>\n",
       "      <th>C</th>\n",
       "    </tr>\n",
       "  </thead>\n",
       "  <tbody>\n",
       "    <tr>\n",
       "      <th>0</th>\n",
       "      <td>1</td>\n",
       "      <td>2</td>\n",
       "      <td>3</td>\n",
       "    </tr>\n",
       "    <tr>\n",
       "      <th>1</th>\n",
       "      <td>1</td>\n",
       "      <td>2</td>\n",
       "      <td>3</td>\n",
       "    </tr>\n",
       "  </tbody>\n",
       "</table>\n",
       "</div>"
      ],
      "text/plain": [
       "   A  B  C\n",
       "0  1  2  3\n",
       "1  1  2  3"
      ]
     },
     "execution_count": 3,
     "metadata": {},
     "output_type": "execute_result"
    }
   ],
   "source": [
    "pd.DataFrame([[1,2,3],[1,2,3]],columns=['A','B','C'])"
   ]
  },
  {
   "cell_type": "markdown",
   "metadata": {},
   "source": [
    "<h3>Accessing columns and rows</h3>"
   ]
  },
  {
   "cell_type": "code",
   "execution_count": 4,
   "metadata": {},
   "outputs": [
    {
     "name": "stdout",
     "output_type": "stream",
     "text": [
      "4515409872\n",
      "4515409872\n"
     ]
    },
    {
     "data": {
      "text/html": [
       "<div>\n",
       "<style>\n",
       "    .dataframe thead tr:only-child th {\n",
       "        text-align: right;\n",
       "    }\n",
       "\n",
       "    .dataframe thead th {\n",
       "        text-align: left;\n",
       "    }\n",
       "\n",
       "    .dataframe tbody tr th {\n",
       "        vertical-align: top;\n",
       "    }\n",
       "</style>\n",
       "<table border=\"1\" class=\"dataframe\">\n",
       "  <thead>\n",
       "    <tr style=\"text-align: right;\">\n",
       "      <th></th>\n",
       "      <th>A</th>\n",
       "      <th>B</th>\n",
       "      <th>C</th>\n",
       "    </tr>\n",
       "    <tr>\n",
       "      <th>row_label</th>\n",
       "      <th></th>\n",
       "      <th></th>\n",
       "      <th></th>\n",
       "    </tr>\n",
       "  </thead>\n",
       "  <tbody>\n",
       "    <tr>\n",
       "      <th>r1</th>\n",
       "      <td>00</td>\n",
       "      <td>01</td>\n",
       "      <td>02</td>\n",
       "    </tr>\n",
       "    <tr>\n",
       "      <th>r2</th>\n",
       "      <td>10</td>\n",
       "      <td>11</td>\n",
       "      <td>12</td>\n",
       "    </tr>\n",
       "    <tr>\n",
       "      <th>r3</th>\n",
       "      <td>20</td>\n",
       "      <td>21</td>\n",
       "      <td>22</td>\n",
       "    </tr>\n",
       "  </tbody>\n",
       "</table>\n",
       "</div>"
      ],
      "text/plain": [
       "            A   B   C\n",
       "row_label            \n",
       "r1         00  01  02\n",
       "r2         10  11  12\n",
       "r3         20  21  22"
      ]
     },
     "execution_count": 4,
     "metadata": {},
     "output_type": "execute_result"
    }
   ],
   "source": [
    "df = pd.DataFrame([['r1','00','01','02'],['r2','10','11','12'],['r3','20','21','22']],columns=['row_label','A','B','C'])\n",
    "print(id(df))\n",
    "df.set_index('row_label',inplace=True)\n",
    "print(id(df))\n",
    "df"
   ]
  },
  {
   "cell_type": "markdown",
   "metadata": {},
   "source": [
    "<h3>Getting column data</h3>"
   ]
  },
  {
   "cell_type": "code",
   "execution_count": 5,
   "metadata": {},
   "outputs": [
    {
     "data": {
      "text/plain": [
       "row_label\n",
       "r1    01\n",
       "r2    11\n",
       "r3    21\n",
       "Name: B, dtype: object"
      ]
     },
     "execution_count": 5,
     "metadata": {},
     "output_type": "execute_result"
    }
   ],
   "source": [
    "df['B']"
   ]
  },
  {
   "cell_type": "markdown",
   "metadata": {},
   "source": [
    "<h3>Getting row data</h3>"
   ]
  },
  {
   "cell_type": "code",
   "execution_count": 6,
   "metadata": {},
   "outputs": [
    {
     "data": {
      "text/plain": [
       "A    00\n",
       "B    01\n",
       "C    02\n",
       "Name: r1, dtype: object"
      ]
     },
     "execution_count": 6,
     "metadata": {},
     "output_type": "execute_result"
    }
   ],
   "source": [
    "df.loc['r1']"
   ]
  },
  {
   "cell_type": "markdown",
   "metadata": {},
   "source": [
    "<h3>Getting a row by row number</h3>"
   ]
  },
  {
   "cell_type": "code",
   "execution_count": 7,
   "metadata": {},
   "outputs": [
    {
     "data": {
      "text/plain": [
       "A    00\n",
       "B    01\n",
       "C    02\n",
       "Name: r1, dtype: object"
      ]
     },
     "execution_count": 7,
     "metadata": {},
     "output_type": "execute_result"
    }
   ],
   "source": [
    "df.iloc[0]"
   ]
  },
  {
   "cell_type": "markdown",
   "metadata": {},
   "source": [
    "<h3>Getting multiple columns<h3>"
   ]
  },
  {
   "cell_type": "code",
   "execution_count": 8,
   "metadata": {},
   "outputs": [
    {
     "data": {
      "text/html": [
       "<div>\n",
       "<style>\n",
       "    .dataframe thead tr:only-child th {\n",
       "        text-align: right;\n",
       "    }\n",
       "\n",
       "    .dataframe thead th {\n",
       "        text-align: left;\n",
       "    }\n",
       "\n",
       "    .dataframe tbody tr th {\n",
       "        vertical-align: top;\n",
       "    }\n",
       "</style>\n",
       "<table border=\"1\" class=\"dataframe\">\n",
       "  <thead>\n",
       "    <tr style=\"text-align: right;\">\n",
       "      <th></th>\n",
       "      <th>B</th>\n",
       "      <th>A</th>\n",
       "    </tr>\n",
       "    <tr>\n",
       "      <th>row_label</th>\n",
       "      <th></th>\n",
       "      <th></th>\n",
       "    </tr>\n",
       "  </thead>\n",
       "  <tbody>\n",
       "    <tr>\n",
       "      <th>r1</th>\n",
       "      <td>01</td>\n",
       "      <td>00</td>\n",
       "    </tr>\n",
       "    <tr>\n",
       "      <th>r2</th>\n",
       "      <td>11</td>\n",
       "      <td>10</td>\n",
       "    </tr>\n",
       "    <tr>\n",
       "      <th>r3</th>\n",
       "      <td>21</td>\n",
       "      <td>20</td>\n",
       "    </tr>\n",
       "  </tbody>\n",
       "</table>\n",
       "</div>"
      ],
      "text/plain": [
       "            B   A\n",
       "row_label        \n",
       "r1         01  00\n",
       "r2         11  10\n",
       "r3         21  20"
      ]
     },
     "execution_count": 8,
     "metadata": {},
     "output_type": "execute_result"
    }
   ],
   "source": [
    "df[['B','A']] #Note that the column identifiers are in a list"
   ]
  },
  {
   "cell_type": "markdown",
   "metadata": {},
   "source": [
    "<h3>Getting a specific cell</h3>"
   ]
  },
  {
   "cell_type": "code",
   "execution_count": 9,
   "metadata": {},
   "outputs": [
    {
     "data": {
      "text/plain": [
       "'11'"
      ]
     },
     "execution_count": 9,
     "metadata": {},
     "output_type": "execute_result"
    }
   ],
   "source": [
    "df.loc['r2','B']"
   ]
  },
  {
   "cell_type": "code",
   "execution_count": 10,
   "metadata": {},
   "outputs": [
    {
     "data": {
      "text/plain": [
       "'10'"
      ]
     },
     "execution_count": 10,
     "metadata": {},
     "output_type": "execute_result"
    }
   ],
   "source": [
    "df.loc['r2']['A']"
   ]
  },
  {
   "cell_type": "markdown",
   "metadata": {},
   "source": [
    "<h3>Slicing</h3>"
   ]
  },
  {
   "cell_type": "code",
   "execution_count": 11,
   "metadata": {},
   "outputs": [
    {
     "data": {
      "text/html": [
       "<div>\n",
       "<style>\n",
       "    .dataframe thead tr:only-child th {\n",
       "        text-align: right;\n",
       "    }\n",
       "\n",
       "    .dataframe thead th {\n",
       "        text-align: left;\n",
       "    }\n",
       "\n",
       "    .dataframe tbody tr th {\n",
       "        vertical-align: top;\n",
       "    }\n",
       "</style>\n",
       "<table border=\"1\" class=\"dataframe\">\n",
       "  <thead>\n",
       "    <tr style=\"text-align: right;\">\n",
       "      <th></th>\n",
       "      <th>A</th>\n",
       "      <th>B</th>\n",
       "      <th>C</th>\n",
       "    </tr>\n",
       "    <tr>\n",
       "      <th>row_label</th>\n",
       "      <th></th>\n",
       "      <th></th>\n",
       "      <th></th>\n",
       "    </tr>\n",
       "  </thead>\n",
       "  <tbody>\n",
       "    <tr>\n",
       "      <th>r1</th>\n",
       "      <td>00</td>\n",
       "      <td>01</td>\n",
       "      <td>02</td>\n",
       "    </tr>\n",
       "    <tr>\n",
       "      <th>r2</th>\n",
       "      <td>10</td>\n",
       "      <td>11</td>\n",
       "      <td>12</td>\n",
       "    </tr>\n",
       "  </tbody>\n",
       "</table>\n",
       "</div>"
      ],
      "text/plain": [
       "            A   B   C\n",
       "row_label            \n",
       "r1         00  01  02\n",
       "r2         10  11  12"
      ]
     },
     "execution_count": 11,
     "metadata": {},
     "output_type": "execute_result"
    }
   ],
   "source": [
    "df.loc['r1':'r2']"
   ]
  },
  {
   "cell_type": "code",
   "execution_count": 12,
   "metadata": {},
   "outputs": [
    {
     "data": {
      "text/html": [
       "<div>\n",
       "<style>\n",
       "    .dataframe thead tr:only-child th {\n",
       "        text-align: right;\n",
       "    }\n",
       "\n",
       "    .dataframe thead th {\n",
       "        text-align: left;\n",
       "    }\n",
       "\n",
       "    .dataframe tbody tr th {\n",
       "        vertical-align: top;\n",
       "    }\n",
       "</style>\n",
       "<table border=\"1\" class=\"dataframe\">\n",
       "  <thead>\n",
       "    <tr style=\"text-align: right;\">\n",
       "      <th></th>\n",
       "      <th>B</th>\n",
       "      <th>C</th>\n",
       "    </tr>\n",
       "    <tr>\n",
       "      <th>row_label</th>\n",
       "      <th></th>\n",
       "      <th></th>\n",
       "    </tr>\n",
       "  </thead>\n",
       "  <tbody>\n",
       "    <tr>\n",
       "      <th>r1</th>\n",
       "      <td>01</td>\n",
       "      <td>02</td>\n",
       "    </tr>\n",
       "    <tr>\n",
       "      <th>r2</th>\n",
       "      <td>11</td>\n",
       "      <td>12</td>\n",
       "    </tr>\n",
       "  </tbody>\n",
       "</table>\n",
       "</div>"
      ],
      "text/plain": [
       "            B   C\n",
       "row_label        \n",
       "r1         01  02\n",
       "r2         11  12"
      ]
     },
     "execution_count": 12,
     "metadata": {},
     "output_type": "execute_result"
    }
   ],
   "source": [
    "df.loc['r1':'r2','B':'C']"
   ]
  },
  {
   "cell_type": "markdown",
   "metadata": {},
   "source": [
    "<h2>Pandas datareader</h2>\n",
    "<li>Access data from html tables on any web page</li>\n",
    "<li>Get data from google finance</li>\n",
    "<li>Get data from the federal reserve</li>"
   ]
  },
  {
   "cell_type": "markdown",
   "metadata": {},
   "source": [
    "<h3>HTML Tables</h3>\n",
    "<li>Pandas datareader can read a table in an html page into a dataframe\n",
    "<li>the read_html function returns a list of all dataframes with one dataframe for each html table on the page"
   ]
  },
  {
   "cell_type": "markdown",
   "metadata": {},
   "source": [
    "<h4>Example: Read the tables on the google finance page</h4>"
   ]
  },
  {
   "cell_type": "code",
   "execution_count": 13,
   "metadata": {},
   "outputs": [
    {
     "name": "stdout",
     "output_type": "stream",
     "text": [
      "1\n"
     ]
    }
   ],
   "source": [
    "df_list = pd.read_html('http://www.bloomberg.com/markets/currencies/major')\n",
    "print(len(df_list))"
   ]
  },
  {
   "cell_type": "markdown",
   "metadata": {},
   "source": [
    "<h4>The page contains only one table so the read_html function returns a list of one element</h4>"
   ]
  },
  {
   "cell_type": "code",
   "execution_count": 14,
   "metadata": {},
   "outputs": [
    {
     "name": "stdout",
     "output_type": "stream",
     "text": [
      "   Currency      Value  Change Net Change Time (EDT)  2 Day\n",
      "0   EUR-USD     1.1758 -0.0057     -0.48%    7:31 AM    NaN\n",
      "1   USD-JPY   109.4100  0.4300     +0.39%    7:31 AM    NaN\n",
      "2   GBP-USD     1.2820 -0.0080     -0.62%    7:31 AM    NaN\n",
      "3   AUD-USD     0.7900 -0.0039     -0.49%    7:31 AM    NaN\n",
      "4   USD-CAD     1.2585  0.0027     +0.22%    7:31 AM    NaN\n",
      "5   USD-CHF     0.9663  0.0044     +0.46%    7:31 AM    NaN\n",
      "6   EUR-JPY   128.6400 -0.1100     -0.09%    7:31 AM    NaN\n",
      "7   EUR-GBP     0.9170  0.0010     +0.11%    7:31 AM    NaN\n",
      "8   USD-HKD     7.8267  0.0029     +0.04%    7:31 AM    NaN\n",
      "9   EUR-CHF     1.1360 -0.0003     -0.03%    7:31 AM    NaN\n",
      "10  USD-KRW  1133.7800 -5.1700     -0.45%    2:29 AM    NaN\n"
     ]
    }
   ],
   "source": [
    "df = df_list[0]\n",
    "print(df)"
   ]
  },
  {
   "cell_type": "markdown",
   "metadata": {},
   "source": [
    "<h4>Note that the read_html function has automatically detected the header columns</h4>\n",
    "<h4>If an index is necessary, we need to explicitly specify it</h4>"
   ]
  },
  {
   "cell_type": "code",
   "execution_count": 15,
   "metadata": {},
   "outputs": [
    {
     "name": "stdout",
     "output_type": "stream",
     "text": [
      "              Value  Change Net Change Time (EDT)  2 Day\n",
      "Currency                                                \n",
      "EUR-USD      1.1758 -0.0057     -0.48%    7:31 AM    NaN\n",
      "USD-JPY    109.4100  0.4300     +0.39%    7:31 AM    NaN\n",
      "GBP-USD      1.2820 -0.0080     -0.62%    7:31 AM    NaN\n",
      "AUD-USD      0.7900 -0.0039     -0.49%    7:31 AM    NaN\n",
      "USD-CAD      1.2585  0.0027     +0.22%    7:31 AM    NaN\n",
      "USD-CHF      0.9663  0.0044     +0.46%    7:31 AM    NaN\n",
      "EUR-JPY    128.6400 -0.1100     -0.09%    7:31 AM    NaN\n",
      "EUR-GBP      0.9170  0.0010     +0.11%    7:31 AM    NaN\n",
      "USD-HKD      7.8267  0.0029     +0.04%    7:31 AM    NaN\n",
      "EUR-CHF      1.1360 -0.0003     -0.03%    7:31 AM    NaN\n",
      "USD-KRW   1133.7800 -5.1700     -0.45%    2:29 AM    NaN\n"
     ]
    }
   ],
   "source": [
    "df.set_index('Currency',inplace=True)\n",
    "print(df)"
   ]
  },
  {
   "cell_type": "markdown",
   "metadata": {},
   "source": [
    "<h4>Now we can use .loc to extract specific currency rates</h4>"
   ]
  },
  {
   "cell_type": "code",
   "execution_count": 16,
   "metadata": {},
   "outputs": [
    {
     "data": {
      "text/plain": [
       "1.1359999999999999"
      ]
     },
     "execution_count": 16,
     "metadata": {},
     "output_type": "execute_result"
    }
   ],
   "source": [
    "df.loc['EUR-CHF','Value']"
   ]
  },
  {
   "cell_type": "markdown",
   "metadata": {},
   "source": [
    "<h3>Working with views and copies</h3>"
   ]
  },
  {
   "cell_type": "markdown",
   "metadata": {},
   "source": [
    "<h4>Chained indexing creates a copy and changes to the copy won't be reflected in the original dataframe</h4>"
   ]
  },
  {
   "cell_type": "code",
   "execution_count": 17,
   "metadata": {},
   "outputs": [
    {
     "name": "stdout",
     "output_type": "stream",
     "text": [
      "-0.0057\n",
      "-0.0057\n"
     ]
    },
    {
     "name": "stderr",
     "output_type": "stream",
     "text": [
      "/Users/spydermac/anaconda/lib/python3.6/site-packages/ipykernel_launcher.py:2: SettingWithCopyWarning: \n",
      "A value is trying to be set on a copy of a slice from a DataFrame\n",
      "\n",
      "See the caveats in the documentation: http://pandas.pydata.org/pandas-docs/stable/indexing.html#indexing-view-versus-copy\n",
      "  \n"
     ]
    }
   ],
   "source": [
    "eur_usd = df.loc['EUR-USD']['Change'] #This is chained indexing\n",
    "df.loc['EUR-USD']['Change'] = 1.0 #Here we are changing a value in a copy of the dataframe\n",
    "print(eur_usd)\n",
    "print(df.loc['EUR-USD']['Change']) #Neither eur_usd, nor the dataframe are changed"
   ]
  },
  {
   "cell_type": "code",
   "execution_count": 18,
   "metadata": {},
   "outputs": [
    {
     "name": "stdout",
     "output_type": "stream",
     "text": [
      "-0.0057\n",
      "1.0\n"
     ]
    }
   ],
   "source": [
    "eur_usd = df.loc['EUR-USD','Change'] #eur_usd points to the value inside the dataframe\n",
    "df.loc['EUR-USD','Change'] = 1.0 #Change the value in the view \n",
    "print(eur_usd) #eur_usd is changed (because it points to the view)\n",
    "print(df.loc['EUR-USD']['Change']) #The dataframe has been correctly updated"
   ]
  },
  {
   "cell_type": "markdown",
   "metadata": {},
   "source": [
    "<h2>Getting historical stock prices from Google financs</h2>\n",
    "Usage: DataReader(ticker,source,startdate,enddate)<br>\n",
    "Unfortunately, the Yahoo finance datareader has stopped working because of a change to Yahoo's website\n"
   ]
  },
  {
   "cell_type": "code",
   "execution_count": 19,
   "metadata": {},
   "outputs": [
    {
     "name": "stdout",
     "output_type": "stream",
     "text": [
      "2017-01-01 00:00:00 2017-08-22 12:33:43.441735\n"
     ]
    }
   ],
   "source": [
    "from pandas_datareader import data\n",
    "import datetime as dt\n",
    "start=dt.datetime(2017, 1, 1)\n",
    "end=dt.datetime.today()\n",
    "\n",
    "\n",
    "print(start,end)\n",
    "\n",
    "\n",
    "df = data.DataReader('IBM', 'google', start, end)\n"
   ]
  },
  {
   "cell_type": "code",
   "execution_count": 20,
   "metadata": {},
   "outputs": [
    {
     "data": {
      "text/html": [
       "<div>\n",
       "<style>\n",
       "    .dataframe thead tr:only-child th {\n",
       "        text-align: right;\n",
       "    }\n",
       "\n",
       "    .dataframe thead th {\n",
       "        text-align: left;\n",
       "    }\n",
       "\n",
       "    .dataframe tbody tr th {\n",
       "        vertical-align: top;\n",
       "    }\n",
       "</style>\n",
       "<table border=\"1\" class=\"dataframe\">\n",
       "  <thead>\n",
       "    <tr style=\"text-align: right;\">\n",
       "      <th></th>\n",
       "      <th>Open</th>\n",
       "      <th>High</th>\n",
       "      <th>Low</th>\n",
       "      <th>Close</th>\n",
       "      <th>Volume</th>\n",
       "    </tr>\n",
       "    <tr>\n",
       "      <th>Date</th>\n",
       "      <th></th>\n",
       "      <th></th>\n",
       "      <th></th>\n",
       "      <th></th>\n",
       "      <th></th>\n",
       "    </tr>\n",
       "  </thead>\n",
       "  <tbody>\n",
       "    <tr>\n",
       "      <th>2017-01-03</th>\n",
       "      <td>167.00</td>\n",
       "      <td>167.87</td>\n",
       "      <td>166.01</td>\n",
       "      <td>167.19</td>\n",
       "      <td>2934299</td>\n",
       "    </tr>\n",
       "    <tr>\n",
       "      <th>2017-01-04</th>\n",
       "      <td>167.77</td>\n",
       "      <td>169.87</td>\n",
       "      <td>167.36</td>\n",
       "      <td>169.26</td>\n",
       "      <td>3381432</td>\n",
       "    </tr>\n",
       "    <tr>\n",
       "      <th>2017-01-05</th>\n",
       "      <td>169.25</td>\n",
       "      <td>169.39</td>\n",
       "      <td>167.26</td>\n",
       "      <td>168.70</td>\n",
       "      <td>2682301</td>\n",
       "    </tr>\n",
       "    <tr>\n",
       "      <th>2017-01-06</th>\n",
       "      <td>168.69</td>\n",
       "      <td>169.92</td>\n",
       "      <td>167.52</td>\n",
       "      <td>169.53</td>\n",
       "      <td>2945536</td>\n",
       "    </tr>\n",
       "    <tr>\n",
       "      <th>2017-01-09</th>\n",
       "      <td>169.47</td>\n",
       "      <td>169.80</td>\n",
       "      <td>167.62</td>\n",
       "      <td>167.65</td>\n",
       "      <td>3189891</td>\n",
       "    </tr>\n",
       "    <tr>\n",
       "      <th>2017-01-10</th>\n",
       "      <td>167.98</td>\n",
       "      <td>168.09</td>\n",
       "      <td>165.34</td>\n",
       "      <td>165.52</td>\n",
       "      <td>4118694</td>\n",
       "    </tr>\n",
       "    <tr>\n",
       "      <th>2017-01-11</th>\n",
       "      <td>166.05</td>\n",
       "      <td>167.76</td>\n",
       "      <td>165.60</td>\n",
       "      <td>167.75</td>\n",
       "      <td>3599464</td>\n",
       "    </tr>\n",
       "    <tr>\n",
       "      <th>2017-01-12</th>\n",
       "      <td>167.77</td>\n",
       "      <td>168.01</td>\n",
       "      <td>165.56</td>\n",
       "      <td>167.95</td>\n",
       "      <td>2927973</td>\n",
       "    </tr>\n",
       "    <tr>\n",
       "      <th>2017-01-13</th>\n",
       "      <td>167.97</td>\n",
       "      <td>168.48</td>\n",
       "      <td>166.88</td>\n",
       "      <td>167.34</td>\n",
       "      <td>2875433</td>\n",
       "    </tr>\n",
       "    <tr>\n",
       "      <th>2017-01-17</th>\n",
       "      <td>166.69</td>\n",
       "      <td>168.18</td>\n",
       "      <td>166.12</td>\n",
       "      <td>167.89</td>\n",
       "      <td>3315655</td>\n",
       "    </tr>\n",
       "    <tr>\n",
       "      <th>2017-01-18</th>\n",
       "      <td>167.45</td>\n",
       "      <td>168.59</td>\n",
       "      <td>166.69</td>\n",
       "      <td>166.80</td>\n",
       "      <td>4007779</td>\n",
       "    </tr>\n",
       "    <tr>\n",
       "      <th>2017-01-19</th>\n",
       "      <td>166.96</td>\n",
       "      <td>167.45</td>\n",
       "      <td>165.80</td>\n",
       "      <td>166.81</td>\n",
       "      <td>6963386</td>\n",
       "    </tr>\n",
       "    <tr>\n",
       "      <th>2017-01-20</th>\n",
       "      <td>167.81</td>\n",
       "      <td>170.64</td>\n",
       "      <td>166.00</td>\n",
       "      <td>170.55</td>\n",
       "      <td>12690029</td>\n",
       "    </tr>\n",
       "    <tr>\n",
       "      <th>2017-01-23</th>\n",
       "      <td>170.08</td>\n",
       "      <td>171.25</td>\n",
       "      <td>170.01</td>\n",
       "      <td>171.03</td>\n",
       "      <td>5478224</td>\n",
       "    </tr>\n",
       "    <tr>\n",
       "      <th>2017-01-24</th>\n",
       "      <td>171.36</td>\n",
       "      <td>176.00</td>\n",
       "      <td>171.16</td>\n",
       "      <td>175.90</td>\n",
       "      <td>6952369</td>\n",
       "    </tr>\n",
       "    <tr>\n",
       "      <th>2017-01-25</th>\n",
       "      <td>176.26</td>\n",
       "      <td>179.25</td>\n",
       "      <td>176.13</td>\n",
       "      <td>178.29</td>\n",
       "      <td>5922462</td>\n",
       "    </tr>\n",
       "    <tr>\n",
       "      <th>2017-01-26</th>\n",
       "      <td>178.06</td>\n",
       "      <td>178.88</td>\n",
       "      <td>177.51</td>\n",
       "      <td>178.66</td>\n",
       "      <td>3063924</td>\n",
       "    </tr>\n",
       "    <tr>\n",
       "      <th>2017-01-27</th>\n",
       "      <td>178.47</td>\n",
       "      <td>179.20</td>\n",
       "      <td>177.30</td>\n",
       "      <td>177.30</td>\n",
       "      <td>3482311</td>\n",
       "    </tr>\n",
       "    <tr>\n",
       "      <th>2017-01-30</th>\n",
       "      <td>176.98</td>\n",
       "      <td>177.07</td>\n",
       "      <td>174.58</td>\n",
       "      <td>175.80</td>\n",
       "      <td>4094755</td>\n",
       "    </tr>\n",
       "    <tr>\n",
       "      <th>2017-01-31</th>\n",
       "      <td>175.05</td>\n",
       "      <td>175.58</td>\n",
       "      <td>173.61</td>\n",
       "      <td>174.52</td>\n",
       "      <td>4138962</td>\n",
       "    </tr>\n",
       "    <tr>\n",
       "      <th>2017-02-01</th>\n",
       "      <td>175.00</td>\n",
       "      <td>175.70</td>\n",
       "      <td>172.89</td>\n",
       "      <td>174.29</td>\n",
       "      <td>2795745</td>\n",
       "    </tr>\n",
       "    <tr>\n",
       "      <th>2017-02-02</th>\n",
       "      <td>174.23</td>\n",
       "      <td>174.97</td>\n",
       "      <td>173.55</td>\n",
       "      <td>174.58</td>\n",
       "      <td>2620526</td>\n",
       "    </tr>\n",
       "    <tr>\n",
       "      <th>2017-02-03</th>\n",
       "      <td>175.00</td>\n",
       "      <td>176.34</td>\n",
       "      <td>174.89</td>\n",
       "      <td>175.82</td>\n",
       "      <td>3309288</td>\n",
       "    </tr>\n",
       "    <tr>\n",
       "      <th>2017-02-06</th>\n",
       "      <td>175.31</td>\n",
       "      <td>175.98</td>\n",
       "      <td>174.38</td>\n",
       "      <td>175.86</td>\n",
       "      <td>2650785</td>\n",
       "    </tr>\n",
       "    <tr>\n",
       "      <th>2017-02-07</th>\n",
       "      <td>176.00</td>\n",
       "      <td>178.62</td>\n",
       "      <td>175.90</td>\n",
       "      <td>178.46</td>\n",
       "      <td>3873455</td>\n",
       "    </tr>\n",
       "    <tr>\n",
       "      <th>2017-02-08</th>\n",
       "      <td>177.50</td>\n",
       "      <td>177.50</td>\n",
       "      <td>175.88</td>\n",
       "      <td>176.17</td>\n",
       "      <td>2913126</td>\n",
       "    </tr>\n",
       "    <tr>\n",
       "      <th>2017-02-09</th>\n",
       "      <td>176.17</td>\n",
       "      <td>177.80</td>\n",
       "      <td>175.91</td>\n",
       "      <td>177.21</td>\n",
       "      <td>3090710</td>\n",
       "    </tr>\n",
       "    <tr>\n",
       "      <th>2017-02-10</th>\n",
       "      <td>177.37</td>\n",
       "      <td>178.87</td>\n",
       "      <td>176.76</td>\n",
       "      <td>178.68</td>\n",
       "      <td>2930710</td>\n",
       "    </tr>\n",
       "    <tr>\n",
       "      <th>2017-02-13</th>\n",
       "      <td>179.24</td>\n",
       "      <td>179.90</td>\n",
       "      <td>178.84</td>\n",
       "      <td>179.36</td>\n",
       "      <td>3093372</td>\n",
       "    </tr>\n",
       "    <tr>\n",
       "      <th>2017-02-14</th>\n",
       "      <td>178.57</td>\n",
       "      <td>180.13</td>\n",
       "      <td>178.35</td>\n",
       "      <td>180.13</td>\n",
       "      <td>2776528</td>\n",
       "    </tr>\n",
       "    <tr>\n",
       "      <th>...</th>\n",
       "      <td>...</td>\n",
       "      <td>...</td>\n",
       "      <td>...</td>\n",
       "      <td>...</td>\n",
       "      <td>...</td>\n",
       "    </tr>\n",
       "    <tr>\n",
       "      <th>2017-07-11</th>\n",
       "      <td>153.26</td>\n",
       "      <td>153.65</td>\n",
       "      <td>152.05</td>\n",
       "      <td>153.19</td>\n",
       "      <td>3447509</td>\n",
       "    </tr>\n",
       "    <tr>\n",
       "      <th>2017-07-12</th>\n",
       "      <td>153.48</td>\n",
       "      <td>154.24</td>\n",
       "      <td>153.05</td>\n",
       "      <td>153.70</td>\n",
       "      <td>3097850</td>\n",
       "    </tr>\n",
       "    <tr>\n",
       "      <th>2017-07-13</th>\n",
       "      <td>153.70</td>\n",
       "      <td>154.19</td>\n",
       "      <td>153.19</td>\n",
       "      <td>153.63</td>\n",
       "      <td>2476112</td>\n",
       "    </tr>\n",
       "    <tr>\n",
       "      <th>2017-07-14</th>\n",
       "      <td>154.01</td>\n",
       "      <td>154.62</td>\n",
       "      <td>153.40</td>\n",
       "      <td>154.24</td>\n",
       "      <td>3256372</td>\n",
       "    </tr>\n",
       "    <tr>\n",
       "      <th>2017-07-17</th>\n",
       "      <td>153.59</td>\n",
       "      <td>153.88</td>\n",
       "      <td>152.24</td>\n",
       "      <td>153.01</td>\n",
       "      <td>4762592</td>\n",
       "    </tr>\n",
       "    <tr>\n",
       "      <th>2017-07-18</th>\n",
       "      <td>152.36</td>\n",
       "      <td>154.29</td>\n",
       "      <td>152.00</td>\n",
       "      <td>154.00</td>\n",
       "      <td>7566818</td>\n",
       "    </tr>\n",
       "    <tr>\n",
       "      <th>2017-07-19</th>\n",
       "      <td>150.02</td>\n",
       "      <td>150.25</td>\n",
       "      <td>146.71</td>\n",
       "      <td>147.53</td>\n",
       "      <td>14293610</td>\n",
       "    </tr>\n",
       "    <tr>\n",
       "      <th>2017-07-20</th>\n",
       "      <td>147.53</td>\n",
       "      <td>148.83</td>\n",
       "      <td>147.03</td>\n",
       "      <td>147.66</td>\n",
       "      <td>7212233</td>\n",
       "    </tr>\n",
       "    <tr>\n",
       "      <th>2017-07-21</th>\n",
       "      <td>147.59</td>\n",
       "      <td>147.87</td>\n",
       "      <td>146.51</td>\n",
       "      <td>147.08</td>\n",
       "      <td>6509459</td>\n",
       "    </tr>\n",
       "    <tr>\n",
       "      <th>2017-07-24</th>\n",
       "      <td>147.00</td>\n",
       "      <td>147.04</td>\n",
       "      <td>145.80</td>\n",
       "      <td>145.99</td>\n",
       "      <td>3877593</td>\n",
       "    </tr>\n",
       "    <tr>\n",
       "      <th>2017-07-25</th>\n",
       "      <td>146.57</td>\n",
       "      <td>147.49</td>\n",
       "      <td>146.03</td>\n",
       "      <td>146.19</td>\n",
       "      <td>4208895</td>\n",
       "    </tr>\n",
       "    <tr>\n",
       "      <th>2017-07-26</th>\n",
       "      <td>146.27</td>\n",
       "      <td>146.46</td>\n",
       "      <td>144.47</td>\n",
       "      <td>145.36</td>\n",
       "      <td>3932361</td>\n",
       "    </tr>\n",
       "    <tr>\n",
       "      <th>2017-07-27</th>\n",
       "      <td>145.00</td>\n",
       "      <td>145.40</td>\n",
       "      <td>143.64</td>\n",
       "      <td>145.07</td>\n",
       "      <td>6430841</td>\n",
       "    </tr>\n",
       "    <tr>\n",
       "      <th>2017-07-28</th>\n",
       "      <td>144.81</td>\n",
       "      <td>145.04</td>\n",
       "      <td>143.84</td>\n",
       "      <td>144.29</td>\n",
       "      <td>3054834</td>\n",
       "    </tr>\n",
       "    <tr>\n",
       "      <th>2017-07-31</th>\n",
       "      <td>NaN</td>\n",
       "      <td>144.93</td>\n",
       "      <td>NaN</td>\n",
       "      <td>144.67</td>\n",
       "      <td>4355718</td>\n",
       "    </tr>\n",
       "    <tr>\n",
       "      <th>2017-08-01</th>\n",
       "      <td>145.00</td>\n",
       "      <td>145.67</td>\n",
       "      <td>144.72</td>\n",
       "      <td>145.30</td>\n",
       "      <td>3219477</td>\n",
       "    </tr>\n",
       "    <tr>\n",
       "      <th>2017-08-02</th>\n",
       "      <td>145.12</td>\n",
       "      <td>145.29</td>\n",
       "      <td>144.22</td>\n",
       "      <td>144.45</td>\n",
       "      <td>3540949</td>\n",
       "    </tr>\n",
       "    <tr>\n",
       "      <th>2017-08-03</th>\n",
       "      <td>144.43</td>\n",
       "      <td>145.34</td>\n",
       "      <td>144.43</td>\n",
       "      <td>144.94</td>\n",
       "      <td>3035393</td>\n",
       "    </tr>\n",
       "    <tr>\n",
       "      <th>2017-08-04</th>\n",
       "      <td>145.00</td>\n",
       "      <td>145.39</td>\n",
       "      <td>144.40</td>\n",
       "      <td>145.16</td>\n",
       "      <td>2549400</td>\n",
       "    </tr>\n",
       "    <tr>\n",
       "      <th>2017-08-07</th>\n",
       "      <td>145.00</td>\n",
       "      <td>145.09</td>\n",
       "      <td>142.75</td>\n",
       "      <td>143.47</td>\n",
       "      <td>4618284</td>\n",
       "    </tr>\n",
       "    <tr>\n",
       "      <th>2017-08-08</th>\n",
       "      <td>142.00</td>\n",
       "      <td>142.76</td>\n",
       "      <td>142.00</td>\n",
       "      <td>142.11</td>\n",
       "      <td>3298718</td>\n",
       "    </tr>\n",
       "    <tr>\n",
       "      <th>2017-08-09</th>\n",
       "      <td>141.75</td>\n",
       "      <td>142.03</td>\n",
       "      <td>141.19</td>\n",
       "      <td>141.77</td>\n",
       "      <td>2925770</td>\n",
       "    </tr>\n",
       "    <tr>\n",
       "      <th>2017-08-10</th>\n",
       "      <td>141.64</td>\n",
       "      <td>142.42</td>\n",
       "      <td>141.23</td>\n",
       "      <td>141.84</td>\n",
       "      <td>4525378</td>\n",
       "    </tr>\n",
       "    <tr>\n",
       "      <th>2017-08-11</th>\n",
       "      <td>142.45</td>\n",
       "      <td>142.59</td>\n",
       "      <td>141.52</td>\n",
       "      <td>141.84</td>\n",
       "      <td>3004360</td>\n",
       "    </tr>\n",
       "    <tr>\n",
       "      <th>2017-08-14</th>\n",
       "      <td>142.00</td>\n",
       "      <td>142.76</td>\n",
       "      <td>141.94</td>\n",
       "      <td>142.32</td>\n",
       "      <td>2248607</td>\n",
       "    </tr>\n",
       "    <tr>\n",
       "      <th>2017-08-15</th>\n",
       "      <td>142.55</td>\n",
       "      <td>143.34</td>\n",
       "      <td>140.58</td>\n",
       "      <td>142.07</td>\n",
       "      <td>4681545</td>\n",
       "    </tr>\n",
       "    <tr>\n",
       "      <th>2017-08-16</th>\n",
       "      <td>141.79</td>\n",
       "      <td>142.91</td>\n",
       "      <td>141.61</td>\n",
       "      <td>142.50</td>\n",
       "      <td>3287821</td>\n",
       "    </tr>\n",
       "    <tr>\n",
       "      <th>2017-08-17</th>\n",
       "      <td>142.52</td>\n",
       "      <td>142.89</td>\n",
       "      <td>140.70</td>\n",
       "      <td>140.70</td>\n",
       "      <td>4422087</td>\n",
       "    </tr>\n",
       "    <tr>\n",
       "      <th>2017-08-18</th>\n",
       "      <td>140.87</td>\n",
       "      <td>141.15</td>\n",
       "      <td>139.58</td>\n",
       "      <td>139.70</td>\n",
       "      <td>4152714</td>\n",
       "    </tr>\n",
       "    <tr>\n",
       "      <th>2017-08-21</th>\n",
       "      <td>139.59</td>\n",
       "      <td>140.42</td>\n",
       "      <td>139.13</td>\n",
       "      <td>140.33</td>\n",
       "      <td>3190691</td>\n",
       "    </tr>\n",
       "  </tbody>\n",
       "</table>\n",
       "<p>160 rows × 5 columns</p>\n",
       "</div>"
      ],
      "text/plain": [
       "              Open    High     Low   Close    Volume\n",
       "Date                                                \n",
       "2017-01-03  167.00  167.87  166.01  167.19   2934299\n",
       "2017-01-04  167.77  169.87  167.36  169.26   3381432\n",
       "2017-01-05  169.25  169.39  167.26  168.70   2682301\n",
       "2017-01-06  168.69  169.92  167.52  169.53   2945536\n",
       "2017-01-09  169.47  169.80  167.62  167.65   3189891\n",
       "2017-01-10  167.98  168.09  165.34  165.52   4118694\n",
       "2017-01-11  166.05  167.76  165.60  167.75   3599464\n",
       "2017-01-12  167.77  168.01  165.56  167.95   2927973\n",
       "2017-01-13  167.97  168.48  166.88  167.34   2875433\n",
       "2017-01-17  166.69  168.18  166.12  167.89   3315655\n",
       "2017-01-18  167.45  168.59  166.69  166.80   4007779\n",
       "2017-01-19  166.96  167.45  165.80  166.81   6963386\n",
       "2017-01-20  167.81  170.64  166.00  170.55  12690029\n",
       "2017-01-23  170.08  171.25  170.01  171.03   5478224\n",
       "2017-01-24  171.36  176.00  171.16  175.90   6952369\n",
       "2017-01-25  176.26  179.25  176.13  178.29   5922462\n",
       "2017-01-26  178.06  178.88  177.51  178.66   3063924\n",
       "2017-01-27  178.47  179.20  177.30  177.30   3482311\n",
       "2017-01-30  176.98  177.07  174.58  175.80   4094755\n",
       "2017-01-31  175.05  175.58  173.61  174.52   4138962\n",
       "2017-02-01  175.00  175.70  172.89  174.29   2795745\n",
       "2017-02-02  174.23  174.97  173.55  174.58   2620526\n",
       "2017-02-03  175.00  176.34  174.89  175.82   3309288\n",
       "2017-02-06  175.31  175.98  174.38  175.86   2650785\n",
       "2017-02-07  176.00  178.62  175.90  178.46   3873455\n",
       "2017-02-08  177.50  177.50  175.88  176.17   2913126\n",
       "2017-02-09  176.17  177.80  175.91  177.21   3090710\n",
       "2017-02-10  177.37  178.87  176.76  178.68   2930710\n",
       "2017-02-13  179.24  179.90  178.84  179.36   3093372\n",
       "2017-02-14  178.57  180.13  178.35  180.13   2776528\n",
       "...            ...     ...     ...     ...       ...\n",
       "2017-07-11  153.26  153.65  152.05  153.19   3447509\n",
       "2017-07-12  153.48  154.24  153.05  153.70   3097850\n",
       "2017-07-13  153.70  154.19  153.19  153.63   2476112\n",
       "2017-07-14  154.01  154.62  153.40  154.24   3256372\n",
       "2017-07-17  153.59  153.88  152.24  153.01   4762592\n",
       "2017-07-18  152.36  154.29  152.00  154.00   7566818\n",
       "2017-07-19  150.02  150.25  146.71  147.53  14293610\n",
       "2017-07-20  147.53  148.83  147.03  147.66   7212233\n",
       "2017-07-21  147.59  147.87  146.51  147.08   6509459\n",
       "2017-07-24  147.00  147.04  145.80  145.99   3877593\n",
       "2017-07-25  146.57  147.49  146.03  146.19   4208895\n",
       "2017-07-26  146.27  146.46  144.47  145.36   3932361\n",
       "2017-07-27  145.00  145.40  143.64  145.07   6430841\n",
       "2017-07-28  144.81  145.04  143.84  144.29   3054834\n",
       "2017-07-31     NaN  144.93     NaN  144.67   4355718\n",
       "2017-08-01  145.00  145.67  144.72  145.30   3219477\n",
       "2017-08-02  145.12  145.29  144.22  144.45   3540949\n",
       "2017-08-03  144.43  145.34  144.43  144.94   3035393\n",
       "2017-08-04  145.00  145.39  144.40  145.16   2549400\n",
       "2017-08-07  145.00  145.09  142.75  143.47   4618284\n",
       "2017-08-08  142.00  142.76  142.00  142.11   3298718\n",
       "2017-08-09  141.75  142.03  141.19  141.77   2925770\n",
       "2017-08-10  141.64  142.42  141.23  141.84   4525378\n",
       "2017-08-11  142.45  142.59  141.52  141.84   3004360\n",
       "2017-08-14  142.00  142.76  141.94  142.32   2248607\n",
       "2017-08-15  142.55  143.34  140.58  142.07   4681545\n",
       "2017-08-16  141.79  142.91  141.61  142.50   3287821\n",
       "2017-08-17  142.52  142.89  140.70  140.70   4422087\n",
       "2017-08-18  140.87  141.15  139.58  139.70   4152714\n",
       "2017-08-21  139.59  140.42  139.13  140.33   3190691\n",
       "\n",
       "[160 rows x 5 columns]"
      ]
     },
     "execution_count": 20,
     "metadata": {},
     "output_type": "execute_result"
    }
   ],
   "source": [
    "df"
   ]
  },
  {
   "cell_type": "markdown",
   "metadata": {},
   "source": [
    "<h2>Datareader documentation</h2>\n",
    "http://pandas-datareader.readthedocs.io/en/latest/</h2>"
   ]
  },
  {
   "cell_type": "markdown",
   "metadata": {},
   "source": [
    "<h3>Working with a timeseries data frame</h3>\n",
    "<li>The data is organized by time with the index serving as the timeline\n"
   ]
  },
  {
   "cell_type": "markdown",
   "metadata": {},
   "source": [
    "<h4>Creating new columns</h4>\n",
    "<li>Add a column to a dataframe\n",
    "<li>Base the elements of the column on some combination of data in the existing columns\n",
    "<h4>Example: Number of Days that the stock closed higher than it opened\n",
    "<li>We'll create a new column with the header \"UP\"\n",
    "<li>And use np.where to decide what to put in the column"
   ]
  },
  {
   "cell_type": "code",
   "execution_count": null,
   "metadata": {},
   "outputs": [],
   "source": [
    "df['UP']=np.where(df['Close']>df['Open'],1,0)\n",
    "df"
   ]
  },
  {
   "cell_type": "markdown",
   "metadata": {},
   "source": [
    "<h3>Get summary statistics</h3>\n",
    "<li>The \"describe\" function returns a dataframe containing summary stats for all numerical columns\n",
    "<li>Columns containing non-numerical data are ignored"
   ]
  },
  {
   "cell_type": "code",
   "execution_count": null,
   "metadata": {},
   "outputs": [],
   "source": [
    "df.describe()"
   ]
  },
  {
   "cell_type": "markdown",
   "metadata": {},
   "source": [
    "<h4>Calculate the percentage of days that the stock has closed higher than its open</h4>"
   ]
  },
  {
   "cell_type": "code",
   "execution_count": null,
   "metadata": {},
   "outputs": [],
   "source": [
    "df['UP'].sum()/df['UP'].count()"
   ]
  },
  {
   "cell_type": "markdown",
   "metadata": {},
   "source": [
    "<h4>Calculate percent changes</h4>\n",
    "<li>The function pct_change computes a percent change between successive rows (times in  timeseries data)\n",
    "<li>Defaults to a single time delta\n",
    "<li>With an argument, the time delta can be changed"
   ]
  },
  {
   "cell_type": "code",
   "execution_count": null,
   "metadata": {},
   "outputs": [],
   "source": [
    "df['Close'].pct_change() #One timeperiod percent change"
   ]
  },
  {
   "cell_type": "code",
   "execution_count": null,
   "metadata": {},
   "outputs": [],
   "source": [
    "n=13\n",
    "df['Close'].pct_change(n) #n timeperiods percent change"
   ]
  },
  {
   "cell_type": "markdown",
   "metadata": {},
   "source": [
    "<h3>NaN support</h3>\n",
    "Pandas functions can ignore NaNs"
   ]
  },
  {
   "cell_type": "code",
   "execution_count": null,
   "metadata": {},
   "outputs": [],
   "source": [
    "n=13\n",
    "df['Close'].pct_change(n).mean()"
   ]
  },
  {
   "cell_type": "markdown",
   "metadata": {},
   "source": [
    "<h3>Rolling windows</h3>\n",
    "<li>\"rolling\" function extracts rolling windows\n",
    "<li>For example, the 21 period rolling window of the 13 period percent change "
   ]
  },
  {
   "cell_type": "code",
   "execution_count": null,
   "metadata": {},
   "outputs": [],
   "source": [
    "df['Close'].pct_change(n).rolling(21)"
   ]
  },
  {
   "cell_type": "markdown",
   "metadata": {},
   "source": [
    "<h4>Calculate something on the rolling windows</h4>"
   ]
  },
  {
   "cell_type": "markdown",
   "metadata": {},
   "source": [
    "<h4>Example: mean (the 21 day moving average of the 13 day percent change)"
   ]
  },
  {
   "cell_type": "code",
   "execution_count": null,
   "metadata": {},
   "outputs": [],
   "source": [
    "n=13\n",
    "df['Close'].pct_change(n).rolling(21).mean()"
   ]
  },
  {
   "cell_type": "markdown",
   "metadata": {},
   "source": [
    "<h4>Calculate several moving averages and graph them</h4>"
   ]
  },
  {
   "cell_type": "code",
   "execution_count": null,
   "metadata": {
    "collapsed": true
   },
   "outputs": [],
   "source": [
    "ma_8 = df['Close'].pct_change(n).rolling(window=8).mean()\n",
    "ma_13= df['Close'].pct_change(n).rolling(window=13).mean()\n",
    "ma_21= df['Close'].pct_change(n).rolling(window=21).mean()\n",
    "ma_34= df['Close'].pct_change(n).rolling(window=34).mean()\n",
    "ma_55= df['Close'].pct_change(n).rolling(window=55).mean()"
   ]
  },
  {
   "cell_type": "code",
   "execution_count": null,
   "metadata": {},
   "outputs": [],
   "source": [
    "ma_8.plot()\n",
    "ma_34.plot()"
   ]
  },
  {
   "cell_type": "markdown",
   "metadata": {},
   "source": [
    "<h2>Linear regression with pandas</h2>\n",
    "<h4>Example: TAN is the ticker for a solar ETF. FSLR, RGSE, and SCTY are tickers of companies that build or lease solar panels. Each has a different business model. We'll use pandas to study the risk reward tradeoff between the 4 investments and also see how correlated they are</h4>"
   ]
  },
  {
   "cell_type": "code",
   "execution_count": null,
   "metadata": {},
   "outputs": [],
   "source": [
    "import datetime\n",
    "import pandas_datareader as data\n",
    "start = datetime.datetime(2015,7,1)\n",
    "end = datetime.datetime(2016,6,1)\n",
    "solar_df = data.DataReader(['FSLR', 'TAN','RGSE','SCTY'],'google', start=start,end=end)['Close']"
   ]
  },
  {
   "cell_type": "code",
   "execution_count": null,
   "metadata": {},
   "outputs": [],
   "source": [
    "solar_df"
   ]
  },
  {
   "cell_type": "markdown",
   "metadata": {},
   "source": [
    "<h4>Let's calculate returns (the 1 day percent change)</h4>"
   ]
  },
  {
   "cell_type": "code",
   "execution_count": null,
   "metadata": {},
   "outputs": [],
   "source": [
    "rets = solar_df.pct_change()\n",
    "print(rets)"
   ]
  },
  {
   "cell_type": "markdown",
   "metadata": {},
   "source": [
    "<h4>Let's visualize the relationship between each stock and the ETF</h4>"
   ]
  },
  {
   "cell_type": "code",
   "execution_count": null,
   "metadata": {},
   "outputs": [],
   "source": [
    "import matplotlib.pyplot as plt\n",
    "plt.scatter(rets.FSLR,rets.TAN)"
   ]
  },
  {
   "cell_type": "code",
   "execution_count": null,
   "metadata": {},
   "outputs": [],
   "source": [
    "plt.scatter(rets.RGSE,rets.TAN)"
   ]
  },
  {
   "cell_type": "code",
   "execution_count": null,
   "metadata": {},
   "outputs": [],
   "source": [
    "plt.scatter(rets.SCTY,rets.TAN)"
   ]
  },
  {
   "cell_type": "markdown",
   "metadata": {},
   "source": [
    "<h4>The correlation matrix</h4>"
   ]
  },
  {
   "cell_type": "code",
   "execution_count": null,
   "metadata": {},
   "outputs": [],
   "source": [
    "solar_corr = rets.corr()\n",
    "print(solar_corr)"
   ]
  },
  {
   "cell_type": "markdown",
   "metadata": {},
   "source": [
    "<h3>Basic risk analysis</h3>\n",
    "<h4>We'll plot the mean and std or returns for each ticker to get a sense of the risk return profile</h4>"
   ]
  },
  {
   "cell_type": "code",
   "execution_count": null,
   "metadata": {},
   "outputs": [],
   "source": [
    "plt.scatter(rets.mean(), rets.std())\n",
    "plt.xlabel('Expected returns')\n",
    "plt.ylabel('Standard deviations')\n",
    "for label, x, y in zip(rets.columns, rets.mean(), rets.std()):\n",
    "    plt.annotate(\n",
    "        label, \n",
    "        xy = (x, y), xytext = (20, -20),\n",
    "        textcoords = 'offset points', ha = 'right', va = 'bottom',\n",
    "        bbox = dict(boxstyle = 'round,pad=0.5', fc = 'yellow', alpha = 0.5),\n",
    "        arrowprops = dict(arrowstyle = '->', connectionstyle = 'arc3,rad=0'))\n",
    "plt.show()\n"
   ]
  },
  {
   "cell_type": "markdown",
   "metadata": {},
   "source": [
    "<h2>Regressions</h2>\n",
    "http://statsmodels.sourceforge.net/"
   ]
  },
  {
   "cell_type": "markdown",
   "metadata": {},
   "source": [
    "<h3>Steps for regression</h3>\n",
    "<li>Construct y (dependent variable series)\n",
    "<li>Construct matrix (dataframe) of X (independent variable series)\n",
    "<li>Add intercept\n",
    "<li>Model the regression\n",
    "<li>Get the results\n",
    "<h3>The statsmodels library contains various regression packages. We'll use the OLS (Ordinary Least Squares) model"
   ]
  },
  {
   "cell_type": "code",
   "execution_count": null,
   "metadata": {},
   "outputs": [],
   "source": [
    "import numpy as np\n",
    "import statsmodels.api as sm\n",
    "X=solar_df[['FSLR','RGSE','SCTY']]\n",
    "X = sm.add_constant(X)\n",
    "y=solar_df['TAN']\n",
    "model = sm.OLS(y,X,missing='drop')\n",
    "result = model.fit()\n",
    "print(result.summary())"
   ]
  },
  {
   "cell_type": "markdown",
   "metadata": {},
   "source": [
    "<h4>Finally plot the fitted line with the actual y values"
   ]
  },
  {
   "cell_type": "code",
   "execution_count": null,
   "metadata": {},
   "outputs": [],
   "source": [
    "fig, ax = plt.subplots(figsize=(8,6))\n",
    "ax.plot(y)\n",
    "ax.plot(result.fittedvalues)"
   ]
  },
  {
   "cell_type": "code",
   "execution_count": null,
   "metadata": {
    "collapsed": true
   },
   "outputs": [],
   "source": []
  }
 ],
 "metadata": {
  "kernelspec": {
   "display_name": "Python 3",
   "language": "python",
   "name": "python3"
  },
  "language_info": {
   "codemirror_mode": {
    "name": "ipython",
    "version": 3
   },
   "file_extension": ".py",
   "mimetype": "text/x-python",
   "name": "python",
   "nbconvert_exporter": "python",
   "pygments_lexer": "ipython3",
   "version": "3.6.1"
  }
 },
 "nbformat": 4,
 "nbformat_minor": 2
}
